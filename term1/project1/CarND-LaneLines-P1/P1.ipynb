{
 "cells": [
  {
   "cell_type": "markdown",
   "metadata": {},
   "source": [
    "# **Finding Lane Lines on the Road** \n",
    "***\n",
    "In this project, you will use the tools you learned about in the lesson to identify lane lines on the road.  You can develop your pipeline on a series of individual images, and later apply the result to a video stream (really just a series of images). Check out the video clip \"raw-lines-example.mp4\" (also contained in this repository) to see what the output should look like after using the helper functions below. \n",
    "\n",
    "Once you have a result that looks roughly like \"raw-lines-example.mp4\", you'll need to get creative and try to average and/or extrapolate the line segments you've detected to map out the full extent of the lane lines.  You can see an example of the result you're going for in the video \"P1_example.mp4\".  Ultimately, you would like to draw just one line for the left side of the lane, and one for the right.\n",
    "\n",
    "---\n",
    "Let's have a look at our first image called 'test_images/solidWhiteRight.jpg'.  Run the 2 cells below (hit Shift-Enter or the \"play\" button above) to display the image.\n",
    "\n",
    "**Note** If, at any point, you encounter frozen display windows or other confounding issues, you can always start again with a clean slate by going to the \"Kernel\" menu above and selecting \"Restart & Clear Output\".\n",
    "\n",
    "---"
   ]
  },
  {
   "cell_type": "markdown",
   "metadata": {},
   "source": [
    "**The tools you have are color selection, region of interest selection, grayscaling, Gaussian smoothing, Canny Edge Detection and Hough Tranform line detection.  You  are also free to explore and try other techniques that were not presented in the lesson.  Your goal is piece together a pipeline to detect the line segments in the image, then average/extrapolate them and draw them onto the image for display (as below).  Once you have a working pipeline, try it out on the video stream below.**\n",
    "\n",
    "---\n",
    "\n",
    "<figure>\n",
    " <img src=\"line-segments-example.jpg\" width=\"380\" alt=\"Combined Image\" />\n",
    " <figcaption>\n",
    " <p></p> \n",
    " <p style=\"text-align: center;\"> Your output should look something like this (above) after detecting line segments using the helper functions below </p> \n",
    " </figcaption>\n",
    "</figure>\n",
    " <p></p> \n",
    "<figure>\n",
    " <img src=\"laneLines_thirdPass.jpg\" width=\"380\" alt=\"Combined Image\" />\n",
    " <figcaption>\n",
    " <p></p> \n",
    " <p style=\"text-align: center;\"> Your goal is to connect/average/extrapolate line segments to get output like this</p> \n",
    " </figcaption>\n",
    "</figure>"
   ]
  },
  {
   "cell_type": "code",
   "execution_count": null,
   "metadata": {
    "collapsed": false
   },
   "outputs": [],
   "source": [
    "#importing some useful packages\n",
    "import matplotlib.pyplot as plt\n",
    "import matplotlib.image as mpimg\n",
    "import numpy as np\n",
    "import cv2\n",
    "%matplotlib inline"
   ]
  },
  {
   "cell_type": "code",
   "execution_count": null,
   "metadata": {
    "collapsed": false
   },
   "outputs": [],
   "source": [
    "#reading in an image\n",
    "image = mpimg.imread('test_images/solidWhiteRight.jpg')\n",
    "#printing out some stats and plotting\n",
    "print('This image is:', type(image), 'with dimesions:', image.shape)\n",
    "plt.imshow(image)  #call as plt.imshow(gray, cmap='gray') to show a grayscaled image"
   ]
  },
  {
   "cell_type": "markdown",
   "metadata": {},
   "source": [
    "**Some OpenCV functions (beyond those introduced in the lesson) that might be useful for this project are:**\n",
    "\n",
    "`cv2.inRange()` for color selection  \n",
    "`cv2.fillPoly()` for regions selection  \n",
    "`cv2.line()` to draw lines on an image given endpoints  \n",
    "`cv2.addWeighted()` to coadd / overlay two images\n",
    "`cv2.cvtColor()` to grayscale or change color\n",
    "`cv2.imwrite()` to output images to file  \n",
    "`cv2.bitwise_and()` to apply a mask to an image\n",
    "\n",
    "**Check out the OpenCV documentation to learn about these and discover even more awesome functionality!**"
   ]
  },
  {
   "cell_type": "markdown",
   "metadata": {},
   "source": [
    "Below are some helper functions to help get you started. They should look familiar from the lesson!"
   ]
  },
  {
   "cell_type": "code",
   "execution_count": null,
   "metadata": {
    "collapsed": true
   },
   "outputs": [],
   "source": [
    "import math\n",
    "\n",
    "def grayscale(img):\n",
    "    \"\"\"Applies the Grayscale transform\n",
    "    This will return an image with only one color channel\n",
    "    but NOTE: to see the returned image as grayscale\n",
    "    you should call plt.imshow(gray, cmap='gray')\"\"\"\n",
    "    return cv2.cvtColor(img, cv2.COLOR_BGR2GRAY)\n",
    "    \n",
    "def canny(img, low_threshold, high_threshold):\n",
    "    \"\"\"Applies the Canny transform\"\"\"\n",
    "    return cv2.Canny(img, low_threshold, high_threshold)\n",
    "\n",
    "def gaussian_blur(img, kernel_size):\n",
    "    \"\"\"Applies a Gaussian Blur kernel\"\"\"\n",
    "    return cv2.GaussianBlur(img, (kernel_size, kernel_size), 0)\n",
    "\n",
    "def region_of_interest(img, vertices):\n",
    "    \"\"\"\n",
    "    Applies an image mask.\n",
    "    \n",
    "    Only keeps the region of the image defined by the polygon\n",
    "    formed from `vertices`. The rest of the image is set to black.\n",
    "    \"\"\"\n",
    "    #defining a blank mask to start with\n",
    "    mask = np.zeros_like(img)   \n",
    "    \n",
    "    #defining a 3 channel or 1 channel color to fill the mask with depending on the input image\n",
    "    if len(img.shape) > 2:\n",
    "        channel_count = img.shape[2]  # i.e. 3 or 4 depending on your image\n",
    "        ignore_mask_color = (255,) * channel_count\n",
    "    else:\n",
    "        ignore_mask_color = 255\n",
    "        \n",
    "    #filling pixels inside the polygon defined by \"vertices\" with the fill color    \n",
    "    cv2.fillPoly(mask, vertices, ignore_mask_color)\n",
    "    \n",
    "    #returning the image only where mask pixels are nonzero\n",
    "    masked_image = cv2.bitwise_and(img, mask)\n",
    "    return masked_image\n",
    "\n",
    "\n",
    "def draw_lines(img, lines, color=[255, 0, 0], thickness=2):\n",
    "    \"\"\"\n",
    "    NOTE: this is the function you might want to use as a starting point once you want to \n",
    "    average/extrapolate the line segments you detect to map out the full\n",
    "    extent of the lane (going from the result shown in raw-lines-example.mp4\n",
    "    to that shown in P1_example.mp4).  \n",
    "    \n",
    "    Think about things like separating line segments by their \n",
    "    slope ((y2-y1)/(x2-x1)) to decide which segments are part of the left\n",
    "    line vs. the right line.  Then, you can average the position of each of \n",
    "    the lines and extrapolate to the top and bottom of the lane.\n",
    "    \n",
    "    This function draws `lines` with `color` and `thickness`.    \n",
    "    Lines are drawn on the image inplace (mutates the image).\n",
    "    If you want to make the lines semi-transparent, think about combining\n",
    "    this function with the weighted_img() function below\n",
    "    \"\"\"\n",
    "    if len(img.shape) == 2:  # grayscale image -> make a \"color\" image out of it\n",
    "        img = np.dstack((img, img, img))\n",
    "    \n",
    "    for line in lines:\n",
    "        for x1,y1,x2,y2 in line:\n",
    "            if x1 >= 0 and x1 < img.shape[1] and \\\n",
    "                y1 >= 0 and y1 < img.shape[0] and \\\n",
    "                x2 >= 0 and x2 < img.shape[1] and \\\n",
    "                y2 >= 0 and y2 < img.shape[0]:\n",
    "                cv2.line(img, (x1, y1), (x2, y2), color, thickness)\n",
    "            else:\n",
    "                print('BAD LINE (%d, %d, %d, %d)' % (x1, y1, x2, y2))\n",
    "\n",
    "def hough_lines(img, rho, theta, threshold, min_line_len, max_line_gap):\n",
    "    \"\"\"\n",
    "    `img` should be the output of a Canny transform.\n",
    "        \n",
    "    Returns an image with hough lines drawn.\n",
    "    \"\"\"\n",
    "    lines = cv2.HoughLinesP(img, rho, theta, threshold, np.array([]), minLineLength=min_line_len, maxLineGap=max_line_gap)\n",
    "    line_img = np.zeros(img.shape, dtype=np.uint8)\n",
    "    draw_lines(line_img, lines)\n",
    "    return line_img\n",
    "\n",
    "def weighted_img(img, initial_img, alpha=0.8, beta=1., lamda=0.):\n",
    "    \"\"\"\n",
    "    `img` is the output of the hough_lines(), An image with lines drawn on it.\n",
    "    Should be a blank image (all black) with lines drawn on it.\n",
    "    \n",
    "    `initial_img` should be the image before any processing.\n",
    "    \n",
    "    The result image is computed as follows:\n",
    "    \n",
    "    initial_img * α + img * β + λ\n",
    "    NOTE: initial_img and img must be the same shape!\n",
    "    \"\"\"\n",
    "    return cv2.addWeighted(initial_img, alpha, img, beta, lamda)"
   ]
  },
  {
   "cell_type": "markdown",
   "metadata": {},
   "source": [
    "## Pipeline implementation\n",
    "In this cell, we implement the image processing pipeline, taking as input the original image and output an annotated image, i.e. the original image with the detected lines drawn on top."
   ]
  },
  {
   "cell_type": "code",
   "execution_count": null,
   "metadata": {
    "collapsed": false
   },
   "outputs": [],
   "source": [
    "def rgb_to_hsv(img):\n",
    "    \"\"\" Converts an RGB image to a HSV image\"\"\"    \n",
    "    return cv2.cvtColor(img, cv2.COLOR_BGR2HSV)\n",
    "\n",
    "def show_img(img):\n",
    "    \"\"\" Displays an image, no matter if it is RGB or single channel\"\"\"\n",
    "    if len(img.shape) > 2:\n",
    "        plt.imshow(img)\n",
    "    else:\n",
    "        plt.imshow(img, cmap='gray')\n",
    "\n",
    "def preprocess(img):\n",
    "    \"\"\" Preprocess the input image \"\"\"\n",
    "    # Convert to HSV and get value (luminance) channel, in order to make\n",
    "    # our algorithm less sensitive to color.\n",
    "    hsv = rgb_to_hsv(img)\n",
    "    v = hsv[:,:,2]\n",
    "    \n",
    "    # Apply Gaussian Blur to reduce the noise in edge detection\n",
    "    kernel_size = 5\n",
    "    out = gaussian_blur(v, kernel_size)   \n",
    "    \n",
    "    #plt.subplot(2,2,1)\n",
    "    #show_img(out)\n",
    "    return out\n",
    "\n",
    "def apply_canny(img):\n",
    "    \"\"\" Applies the Canny edge detector to the input image \"\"\"\n",
    "    # Apply Canny edge detector\n",
    "    low_threshold = 50\n",
    "    high_threshold = 150\n",
    "    \n",
    "    out_img = canny(img, low_threshold, high_threshold)\n",
    "    #show_img(out_img)\n",
    "    return out_img\n",
    "\n",
    "def select_region_of_interest(img):\n",
    "    h = 20\n",
    "    k = 1.75\n",
    "    v1 = (0+h, img.shape[0]) \n",
    "    v2 = (img.shape[1]/2 - 5, img.shape[0]/k) \n",
    "    v3 = (img.shape[1]/2 + 5, img.shape[0]/k) \n",
    "    v4 = (img.shape[1] - h, img.shape[0])\n",
    "    return region_of_interest(img, np.array([[v1, v2, v3, v4]], dtype=np.int32))\n",
    "    \n",
    "def extract_edges(img):\n",
    "    # Get edges using the Canny edge detector\n",
    "    img_canny = apply_canny(img)    \n",
    "    return select_region_of_interest(img_canny)\n",
    "    \n",
    "def detect_lines(img_canny_masked):\n",
    "    \"\"\" Runs the Hough transform to detect lines in the input image\"\"\"\n",
    "    # Apply HoughLines to extract lines\n",
    "    rho_res         = 2                 # [pixels]\n",
    "    theta_res       = np.pi/180.        # [radians]\n",
    "    threshold       = 60                # [# votes]\n",
    "    min_line_length = 120                # [pixels]\n",
    "    max_line_gap    = 100                # [pixels]\n",
    "    lines = cv2.HoughLinesP(img_canny_masked, rho_res, theta_res, threshold, np.array([]), \n",
    "                            minLineLength=min_line_length, maxLineGap=max_line_gap)\n",
    "    return lines\n",
    "\n",
    "def fitLine(line_points):\n",
    "    \"\"\" Given 2 points (x1,y1,x2,y2), compute the line equation\n",
    "    y = mx + b\"\"\"\n",
    "    x1 = line_points[0]\n",
    "    y1 = line_points[1]\n",
    "    x2 = line_points[2]\n",
    "    y2 = line_points[3]\n",
    "    \n",
    "    m = (y2 - y1) / (x2 - x1)\n",
    "    b = y1 - m * x1\n",
    "    return (m, b)\n",
    "\n",
    "def extract_lanemarkings(img_shape, lines):\n",
    "    \"\"\" Given a list of lines (detected by the Hough transform),\n",
    "    average and extrapolate them in order to come up with 2 single\n",
    "    lines, corresponding to the left and right lanemarkings \"\"\"\n",
    "    # For each line segment\n",
    "    slope_min = 0.5\n",
    "    slope_max = 2.0\n",
    "  \n",
    "    m1 = np.array([])\n",
    "    b1 = np.array([])\n",
    "    \n",
    "    m2 = np.array([])\n",
    "    b2 = np.array([])\n",
    "\n",
    "    y_min = img_shape[0]\n",
    "    \n",
    "    for line_points in lines:\n",
    "        # Fit to line equation (m, b)\n",
    "        (m, b) = fitLine(line_points)\n",
    "\n",
    "        # Filter line by slope\n",
    "        if abs(m) > slope_min and abs(m) < slope_max:\n",
    "            y_min = min(y_min, line_points[1])\n",
    "            y_min = min(y_min, line_points[3])\n",
    "        \n",
    "            # Separate into left/right using the sign of the slope\n",
    "            if (m > 0):\n",
    "                m1 = np.append(m1, m)\n",
    "                b1 = np.append(b1, b)\n",
    "            else:\n",
    "                m2 = np.append(m2, m)\n",
    "                b2 = np.append(b2, b)\n",
    "        \n",
    "    # Average the two main lines\n",
    "    m1 = np.mean(m1)\n",
    "    b1 = np.mean(b1)\n",
    "    \n",
    "    m2 = np.mean(m2)\n",
    "    b2 = np.mean(b2)\n",
    "    \n",
    "    # Compute the crossing (x,y) point in the image\n",
    "    x_cross = (b2 - b1) / (m1 - m2)\n",
    "    y_cross = m1 * x_cross + b1\n",
    "    \n",
    "    # End point of the line: at most the crossing point\n",
    "    y_end = max(y_cross, y_min)\n",
    "    \n",
    "    # Compute the (x) coordinate where the line crosses the \n",
    "    # bottom edge of the image\n",
    "    y1 = img_shape[0] - 1\n",
    "    x1 = (y1 - b1) / m1\n",
    "    y2 = img_shape[0] - 1\n",
    "    x2 = (img_shape[0] - b2) / m2    \n",
    "    \n",
    "    x_end1 = (y_end - b1) / m1\n",
    "    x_end2 = (y_end - b2) / m2\n",
    "    \n",
    "    return np.array([[[x1, y1, x_end1, y_end]], [[x2, y2, x_end2, y_end]]]).astype(int)\n",
    "\n",
    "def overlay_lanemarkings(img, lanemarkings):\n",
    "    \"\"\" Draws the lines on top of the image img \"\"\"\n",
    "    # Create a black image with red lanemarkings\n",
    "    img_lines = np.copy(img)*0\n",
    "    draw_lines(img_lines, lanemarkings, color=[255, 0, 0], thickness=10)\n",
    "    \n",
    "    # Blend the original image with the previous one\n",
    "    img_out = weighted_img(img_lines, img)\n",
    "    return img_out\n",
    "\n",
    "def pipeline(img_original):\n",
    "    \"\"\"\n",
    "    Process the input image 'img' and outputs an annotated version of it,\n",
    "    where the left and right lane markings are detected.\n",
    "    \"\"\"\n",
    "    # Pre-process\n",
    "    img = preprocess(img_original)\n",
    "    \n",
    "    # Extract edges\n",
    "    img_edges = extract_edges(img)\n",
    "    \n",
    "    # Detect lines\n",
    "    lines = detect_lines(img_edges)\n",
    "    img_lines = np.copy(img_original)\n",
    "    draw_lines(img_lines, lines)    \n",
    "    \n",
    "    # Extract left and right lanemarkings from the lines\n",
    "    lanemarkings = extract_lanemarkings(img.shape, lines.squeeze())\n",
    "    \n",
    "    # Produce output\n",
    "    img_out = overlay_lanemarkings(img_original, lanemarkings)    \n",
    "    #img_out = img_lines\n",
    "    return img_out"
   ]
  },
  {
   "cell_type": "markdown",
   "metadata": {},
   "source": [
    "## Test on Images\n",
    "\n",
    "Now you should build your pipeline to work on the images in the directory \"test_images\"  \n",
    "**You should make sure your pipeline works well on these images before you try the videos.**"
   ]
  },
  {
   "cell_type": "code",
   "execution_count": null,
   "metadata": {
    "collapsed": false,
    "scrolled": true
   },
   "outputs": [],
   "source": [
    "import os\n",
    "os.listdir(\"test_images/\")"
   ]
  },
  {
   "cell_type": "markdown",
   "metadata": {},
   "source": [
    "run your solution on all test_images and make copies into the test_images directory)."
   ]
  },
  {
   "cell_type": "code",
   "execution_count": null,
   "metadata": {
    "collapsed": false
   },
   "outputs": [],
   "source": [
    "test_images = os.listdir(\"test_images/\")\n",
    "\n",
    "if not os.path.isdir(\"results\"):\n",
    "    os.mkdir(\"results\")\n",
    "\n",
    "for i in range(0, len(test_images)):\n",
    "    # Read image\n",
    "    img = mpimg.imread(os.path.join(\"test_images\", test_images[i]))\n",
    "    \n",
    "    # Run the pipeline\n",
    "    img_out = pipeline(img)\n",
    "    \n",
    "    # Save output\n",
    "    mpimg.imsave(os.path.join(\"results\", test_images[i]), img_out) \n",
    "        "
   ]
  },
  {
   "cell_type": "markdown",
   "metadata": {},
   "source": [
    "## Test on Videos\n",
    "\n",
    "You know what's cooler than drawing lanes over images? Drawing lanes over video!\n",
    "\n",
    "We can test our solution on two provided videos:\n",
    "\n",
    "`solidWhiteRight.mp4`\n",
    "\n",
    "`solidYellowLeft.mp4`"
   ]
  },
  {
   "cell_type": "code",
   "execution_count": null,
   "metadata": {
    "collapsed": false
   },
   "outputs": [],
   "source": [
    "# Import everything needed to edit/save/watch video clips\n",
    "from moviepy.editor import VideoFileClip\n",
    "from IPython.display import HTML"
   ]
  },
  {
   "cell_type": "code",
   "execution_count": null,
   "metadata": {
    "collapsed": true
   },
   "outputs": [],
   "source": [
    "def process_image(image):\n",
    "    # NOTE: The output you return should be a color image (3 channel) for processing video below\n",
    "    # TODO: put your pipeline here,\n",
    "    # you should return the final output (image with lines are drawn on lanes)\n",
    "    result = pipeline(image)\n",
    "    return result"
   ]
  },
  {
   "cell_type": "markdown",
   "metadata": {},
   "source": [
    "Let's try the one with the solid white lane on the right first ..."
   ]
  },
  {
   "cell_type": "code",
   "execution_count": null,
   "metadata": {
    "collapsed": false
   },
   "outputs": [],
   "source": [
    "white_output = 'white.mp4'\n",
    "clip1 = VideoFileClip(\"solidWhiteRight.mp4\")\n",
    "white_clip = clip1.fl_image(process_image) #NOTE: this function expects color images!!\n",
    "%time white_clip.write_videofile(white_output, audio=False)"
   ]
  },
  {
   "cell_type": "markdown",
   "metadata": {},
   "source": [
    "Play the video inline, or if you prefer find the video in your filesystem (should be in the same directory) and play it in your video player of choice."
   ]
  },
  {
   "cell_type": "code",
   "execution_count": null,
   "metadata": {
    "collapsed": false
   },
   "outputs": [],
   "source": [
    "HTML(\"\"\"\n",
    "<video width=\"960\" height=\"540\" controls>\n",
    "  <source src=\"{0}\">\n",
    "</video>\n",
    "\"\"\".format(white_output))"
   ]
  },
  {
   "cell_type": "markdown",
   "metadata": {},
   "source": [
    "**At this point, if you were successful you probably have the Hough line segments drawn onto the road, but what about identifying the full extent of the lane and marking it clearly as in the example video (P1_example.mp4)?  Think about defining a line to run the full length of the visible lane based on the line segments you identified with the Hough Transform.  Modify your draw_lines function accordingly and try re-running your pipeline.**"
   ]
  },
  {
   "cell_type": "markdown",
   "metadata": {},
   "source": [
    "Now for the one with the solid yellow lane on the left. This one's more tricky!"
   ]
  },
  {
   "cell_type": "code",
   "execution_count": null,
   "metadata": {
    "collapsed": false
   },
   "outputs": [],
   "source": [
    "yellow_output = 'yellow.mp4'\n",
    "clip2 = VideoFileClip('solidYellowLeft.mp4')\n",
    "yellow_clip = clip2.fl_image(process_image)\n",
    "%time yellow_clip.write_videofile(yellow_output, audio=False)"
   ]
  },
  {
   "cell_type": "code",
   "execution_count": null,
   "metadata": {
    "collapsed": false
   },
   "outputs": [],
   "source": [
    "HTML(\"\"\"\n",
    "<video width=\"960\" height=\"540\" controls>\n",
    "  <source src=\"{0}\">\n",
    "</video>\n",
    "\"\"\".format(yellow_output))"
   ]
  },
  {
   "cell_type": "markdown",
   "metadata": {},
   "source": [
    "## Reflections\n",
    "\n",
    "Congratulations on finding the lane lines!  As the final step in this project, we would like you to share your thoughts on your lane finding pipeline... specifically, how could you imagine making your algorithm better / more robust?  Where will your current algorithm be likely to fail?\n",
    "\n",
    "Please add your thoughts below,  and if you're up for making your pipeline more robust, be sure to scroll down and check out the optional challenge video below!\n",
    "\n",
    "---\n",
    "Here we have implemented a very simple algorithm to detect the lanemarkings in the road using standard image processing techniques, following the following pipeline:\n",
    "\n",
    "1. First, the input image is preprocessed:\n",
    "\n",
    "    -Color space transformation from RGB to HSV. After that, only the V channel (value) is selected for further processing. By doing so, we extract information only about the illumination, making the implementation less sensitive to color differences. This way, the code worked perfectly both on white and yellow lines without any change.\n",
    "    \n",
    "    -Gaussian blur. This reduces the noise in the image, in order to improve the edge detection step later on.\n",
    "    \n",
    "2. After that, edges are extracted using the Canny edge detector. A region of interest is applied in order to remove non interesting lines. We assume that the vehicle is reasonably centered with respect to the lane.\n",
    "\n",
    "3. Next, straight lines are detected using the Hough transform. \n",
    "\n",
    "4. Finally, we create two sets of lines associated to the left and right lanemarkings, based on the slope of the lines. These sets are further averaged to create a single line (left and right). Finally, two single lines are drawn on the image, from the bottom of the image until the furthest detected point in the edges. \n",
    "\n",
    "\n",
    "However there are a few aspects that could be improved or that can potentially make the algorithm fail:\n",
    "\n",
    "-**Curved lanemarkings**. Right now we are trying to fit the edge pixels to a linear model of the lanemarking. However this assumption does not hold for curved roads. The output from the Hough detector would be a piecewise-linear lanemarking. However we would need to be able to determine which sub-lines belong to the same lanemarking.\n",
    "A better approach would be to parametrice the lanemarking as a quadratic curve or a Bézier curve. This would however require extending the Hough space to more dimensions (one per extra parameter), which would exponentially increase the computation time.\n",
    "\n",
    "-**Light/road conditions**. It is likely that the code will perform worse under non-ideal lightning conditions. For example, with shadows or reflections on the road (e.g. with rain), which would make the edges be not so clear to the Canny detector.\n",
    "\n",
    "-**Too many parameters**. The code is quite tailor-made for this application, with a lot of tuning parameters: region of interest (ROI), Canny and Hough parameters, etc. This makes the algorithm very sensitive to different inputs. It would be better if these paremeters could be learnt from a large amount of training data.\n",
    "\n",
    "-**Centered-vehicle assumption**. The region of interest (ROI) assumes that the vehicle is somewhat centered in the lane. This allows us to discard a big portion of the image and focus on extracting lines only where required. This provides a good performance but will make the algorithm fail if the vehicle is not well centered or if we are executing a lane change.\n"
   ]
  },
  {
   "cell_type": "markdown",
   "metadata": {},
   "source": [
    "## Submission\n",
    "\n",
    "If you're satisfied with your video outputs it's time to submit!\n"
   ]
  },
  {
   "cell_type": "markdown",
   "metadata": {
    "collapsed": true
   },
   "source": [
    "## Optional Challenge\n",
    "\n",
    "Try your lane finding pipeline on the video below.  Does it still work?  Can you figure out a way to make it more robust?  If you're up for the challenge, modify your pipeline so it works with this video and submit it along with the rest of your project!"
   ]
  },
  {
   "cell_type": "code",
   "execution_count": null,
   "metadata": {
    "collapsed": false
   },
   "outputs": [],
   "source": [
    "challenge_output = 'extra.mp4'\n",
    "clip2 = VideoFileClip('challenge.mp4')\n",
    "challenge_clip = clip2.fl_image(process_image)\n",
    "%time challenge_clip.write_videofile(challenge_output, audio=False)"
   ]
  },
  {
   "cell_type": "code",
   "execution_count": null,
   "metadata": {
    "collapsed": true
   },
   "outputs": [],
   "source": [
    "HTML(\"\"\"\n",
    "<video width=\"960\" height=\"540\" controls>\n",
    "  <source src=\"{0}\">\n",
    "</video>\n",
    "\"\"\".format(challenge_output))"
   ]
  }
 ],
 "metadata": {
  "anaconda-cloud": {},
  "kernelspec": {
   "display_name": "Python [conda root]",
   "language": "python",
   "name": "conda-root-py"
  },
  "language_info": {
   "codemirror_mode": {
    "name": "ipython",
    "version": 3
   },
   "file_extension": ".py",
   "mimetype": "text/x-python",
   "name": "python",
   "nbconvert_exporter": "python",
   "pygments_lexer": "ipython3",
   "version": "3.5.2"
  }
 },
 "nbformat": 4,
 "nbformat_minor": 0
}
