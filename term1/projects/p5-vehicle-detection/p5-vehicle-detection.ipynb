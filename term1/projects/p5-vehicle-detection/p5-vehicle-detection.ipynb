{
 "cells": [
  {
   "cell_type": "markdown",
   "metadata": {
    "collapsed": true
   },
   "source": [
    "# Project 5 - Vehicle Detection and Tracking\n",
    "\n",
    "## Introduction\n",
    "\n",
    "In this project, we apply Computer Vision to the task of vehicle detection and tracking on a video feed."
   ]
  },
  {
   "cell_type": "code",
   "execution_count": 1,
   "metadata": {
    "collapsed": false
   },
   "outputs": [],
   "source": [
    "import os\n",
    "import math\n",
    "import cv2\n",
    "import glob\n",
    "import zipfile\n",
    "import scipy\n",
    "import pickle\n",
    "import time\n",
    "import numpy as np\n",
    "import matplotlib.pyplot as plt\n",
    "from skimage.feature import hog\n",
    "from moviepy.editor import VideoFileClip\n",
    "from IPython.display import display, HTML\n",
    "from urllib.request import urlretrieve\n",
    "from sklearn.svm import SVC, LinearSVC\n",
    "from sklearn.preprocessing import StandardScaler\n",
    "from sklearn.model_selection import train_test_split\n",
    "from sklearn.externals import joblib\n",
    "\n",
    "%matplotlib inline"
   ]
  },
  {
   "cell_type": "markdown",
   "metadata": {},
   "source": [
    "## Tools and helper functions"
   ]
  },
  {
   "cell_type": "code",
   "execution_count": 2,
   "metadata": {
    "collapsed": false
   },
   "outputs": [],
   "source": [
    "def get_output_dir():\n",
    "    output_dir = './output_images'\n",
    "    \n",
    "    if not os.path.isdir(output_dir):\n",
    "        os.mkdir(output_dir)\n",
    "    \n",
    "    return output_dir\n",
    "\n",
    "def get_classifier_path():\n",
    "    return './classifier.pickle'\n",
    "\n",
    "def save_plt_img(fig_handle, fname):\n",
    "    plt.figure(fig_handle.number)\n",
    "    plt.savefig(os.path.join(get_output_dir(), fname + '.jpg'))\n",
    "    \n",
    "def save_cv_img(img, fname):\n",
    "    scipy.misc.imsave(os.path.join(get_output_dir(), fname + '.jpg'), img)\n",
    "    \n",
    "def read_img(fname):\n",
    "    return scipy.misc.imread(fname)\n",
    "\n",
    "def display_img(img, title):\n",
    "    if len(img.shape) == 2:\n",
    "        plt.imshow(img, cmap='gray')\n",
    "    else:\n",
    "        plt.imshow(img)\n",
    "    \n",
    "    plt.axis('off')\n",
    "    plt.title(title)"
   ]
  },
  {
   "cell_type": "markdown",
   "metadata": {},
   "source": [
    "## Data download and unpacking"
   ]
  },
  {
   "cell_type": "code",
   "execution_count": 3,
   "metadata": {
    "collapsed": true
   },
   "outputs": [],
   "source": [
    "vehicles_file = 'vehicles.zip'\n",
    "non_vehicles_file = 'non-vehicles.zip'\n",
    "download_url_base = 'https://s3.amazonaws.com/udacity-sdc/Vehicle_Tracking/'"
   ]
  },
  {
   "cell_type": "code",
   "execution_count": 4,
   "metadata": {
    "collapsed": false
   },
   "outputs": [
    {
     "name": "stdout",
     "output_type": "stream",
     "text": [
      "Downloading vehicles.zip...\n",
      "File already in the filesystem!\n",
      "Downloading non-vehicles.zip...\n",
      "File already in the filesystem!\n"
     ]
    }
   ],
   "source": [
    "def download(url):\n",
    "    # Get file name\n",
    "    file = url.rsplit('/', 1)[-1]\n",
    "    \n",
    "    # Download\n",
    "    print('Downloading ' + file + '...')\n",
    "    if not os.path.isfile(file):\n",
    "        urlretrieve(url, file)\n",
    "        print('Download Finished')\n",
    "    else:\n",
    "        print('File already in the filesystem!')\n",
    "        \n",
    "download(url = download_url_base + vehicles_file)\n",
    "download(url = download_url_base + non_vehicles_file)"
   ]
  },
  {
   "cell_type": "code",
   "execution_count": null,
   "metadata": {
    "collapsed": false,
    "scrolled": true
   },
   "outputs": [
    {
     "name": "stdout",
     "output_type": "stream",
     "text": [
      "File vehicles.zip already unpacked!\n",
      "File non-vehicles.zip already unpacked!\n"
     ]
    }
   ],
   "source": [
    "def unzip(file):\n",
    "    if not os.path.isdir(os.path.splitext(file)[0]):        \n",
    "        print('Unzipping ' + file + '...')\n",
    "        with zipfile.ZipFile(file,\"r\") as zip_ref:\n",
    "            zip_ref.extractall()\n",
    "    else:\n",
    "        print('File ' + file + ' already unpacked!')\n",
    "\n",
    "unzip(vehicles_file)\n",
    "unzip(non_vehicles_file)"
   ]
  },
  {
   "cell_type": "markdown",
   "metadata": {},
   "source": [
    "## Data loading"
   ]
  },
  {
   "cell_type": "code",
   "execution_count": null,
   "metadata": {
    "collapsed": false
   },
   "outputs": [
    {
     "name": "stdout",
     "output_type": "stream",
     "text": [
      "Loading datasets...\n"
     ]
    }
   ],
   "source": [
    "def get_img_shape():\n",
    "    return (64, 64, 3)\n",
    "\n",
    "def get_vehicle_label():\n",
    "    return 1\n",
    "\n",
    "def get_non_vehicle_label():\n",
    "    return 0\n",
    "\n",
    "def load_dataset(class_base_folder, class_id):\n",
    "    # Get filenames recursively\n",
    "    f_names = glob.glob(class_base_folder + '/**/*.png')\n",
    "    \n",
    "    # Declare output arrays\n",
    "    n_img = len(f_names)\n",
    "    X = np.zeros((n_img,) + get_img_shape(), dtype = np.uint8)\n",
    "    y = np.zeros((n_img,), dtype = int)\n",
    "    \n",
    "    # Read images and store them in memory\n",
    "    for i in range(n_img):\n",
    "        # Note: the input image is PNG, therefore a float32 array between 0.0 and 1.0\n",
    "        X[i] = read_img(f_names[i])\n",
    "        y[i] = class_id\n",
    "        \n",
    "    return X, y\n",
    "\n",
    "print('Loading datasets...')\n",
    "Img_v, y_v = load_dataset('vehicles', get_vehicle_label())\n",
    "Img_nv, y_nv = load_dataset('non-vehicles', get_non_vehicle_label())\n",
    "print('Done...')"
   ]
  },
  {
   "cell_type": "code",
   "execution_count": null,
   "metadata": {
    "collapsed": false
   },
   "outputs": [],
   "source": [
    "print('Vehicle training data: ', Img_v.shape, y_v.shape)\n",
    "print('Non-vehicle training data: ', Img_nv.shape, y_nv.shape)\n",
    "\n",
    "Img = np.concatenate((Img_v, Img_nv))\n",
    "y = np.concatenate((y_v, y_nv))\n",
    "\n",
    "print('Combined dataset: ', Img.shape, y.shape)\n",
    "print(np.amin(Img), np.amax(Img))"
   ]
  },
  {
   "cell_type": "code",
   "execution_count": null,
   "metadata": {
    "collapsed": false
   },
   "outputs": [],
   "source": [
    "h = plt.figure()\n",
    "plt.subplot(1,2,1);\n",
    "display_img(Img_v[0], 'Vehicle')\n",
    "plt.subplot(1,2,2);\n",
    "display_img(Img_nv[0], 'Non-vehicle')\n",
    "\n",
    "save_plt_img(fig_handle=h, fname='vehicle_non_vehicle')"
   ]
  },
  {
   "cell_type": "markdown",
   "metadata": {},
   "source": [
    "## Data augmentation"
   ]
  },
  {
   "cell_type": "code",
   "execution_count": null,
   "metadata": {
    "collapsed": true
   },
   "outputs": [],
   "source": [
    "def augment_data(X, y):\n",
    "    raise NotImplemented"
   ]
  },
  {
   "cell_type": "markdown",
   "metadata": {},
   "source": [
    "## Data preprocessing"
   ]
  },
  {
   "cell_type": "code",
   "execution_count": null,
   "metadata": {
    "collapsed": false
   },
   "outputs": [],
   "source": [
    "def rgb_to_ycrcb(img):\n",
    "    return cv2.cvtColor(img, cv2.COLOR_RGB2YCrCb)\n",
    "\n",
    "def preprocess_img(Img):\n",
    "    Img_out = np.copy(Img)\n",
    "    \n",
    "    if len(Img.shape) == 3:\n",
    "        Img_out = rgb_to_ycrcb(Img)\n",
    "    else:\n",
    "        for i in range(Img.shape[0]):\n",
    "            Img_out[i] = cv2.cvtColor(Img[i], cv2.COLOR_RGB2YCrCb)\n",
    "    \n",
    "    return Img_out\n",
    "\n",
    "Img_v_pp = preprocess_img(Img_v)\n",
    "Img_nv_pp = preprocess_img(Img_nv)\n",
    "Img_pp = preprocess_img(Img)"
   ]
  },
  {
   "cell_type": "markdown",
   "metadata": {},
   "source": [
    "## HOG feature extraction"
   ]
  },
  {
   "cell_type": "code",
   "execution_count": null,
   "metadata": {
    "collapsed": false
   },
   "outputs": [],
   "source": [
    "def get_hog_features(img, debug = False):\n",
    "    # Resize image to match the HOG parameters\n",
    "    img = cv2.resize(img, get_img_shape()[0:2])\n",
    "\n",
    "    # Setup HOG parameters\n",
    "    pix_per_cell = 8\n",
    "    cell_per_block = 2\n",
    "    orient = 9\n",
    "\n",
    "    img_shape = img.shape\n",
    "    n_channels = img_shape[2]\n",
    "    \n",
    "    features = []\n",
    "    hog_image = np.zeros_like(img)\n",
    "    \n",
    "    for i in range(n_channels):\n",
    "        if debug:\n",
    "            features_i, hog_image[:, :, i] = hog(img[:, :, i], orientations=orient, \n",
    "                                                 pixels_per_cell=(pix_per_cell, pix_per_cell),\n",
    "                                                 cells_per_block=(cell_per_block, cell_per_block),\n",
    "                                                 visualise=True, feature_vector=True)\n",
    "        else:\n",
    "            features_i = hog(img[:, :, i], orientations=orient, \n",
    "                             pixels_per_cell=(pix_per_cell, pix_per_cell),\n",
    "                             cells_per_block=(cell_per_block, cell_per_block),\n",
    "                             visualise=False, feature_vector=True)\n",
    "        features.append(features_i)\n",
    "\n",
    "    features = np.array(features).ravel()\n",
    "        \n",
    "    if debug:        \n",
    "        return features, hog_image\n",
    "    else:\n",
    "        return features\n",
    "\n",
    "def get_hog_features_batch(Img):\n",
    "    features = []\n",
    "    for i in range(Img.shape[0]):\n",
    "        features.append(get_hog_features(Img[i], debug=False))\n",
    "    return np.array(features)"
   ]
  },
  {
   "cell_type": "code",
   "execution_count": null,
   "metadata": {
    "collapsed": false
   },
   "outputs": [],
   "source": [
    "def test_hog_features():\n",
    "    img_v = Img_v_pp[0]\n",
    "    img_nv = Img_nv_pp[0]\n",
    "\n",
    "    features_v, hog_image_v = get_hog_features(img_v, debug=True)\n",
    "    features_nv, hog_image_nv = get_hog_features(img_nv, debug=True)\n",
    "\n",
    "    print(features_v.shape, features_v.dtype, hog_image_v.shape, hog_image_v.dtype)\n",
    "\n",
    "    h = plt.figure()\n",
    "    img_labels = ['Y', 'Cr', 'Cb']\n",
    "\n",
    "    for idx in range(3):\n",
    "        plt.subplot(2,3, idx + 3 * 0 + 1);\n",
    "        display_img(img_v[:, :, idx], img_labels[idx])\n",
    "\n",
    "    for idx in range(3):\n",
    "        plt.subplot(2,3, idx + 3 * 1 + 1);\n",
    "        display_img(hog_image_v[:, :, idx], img_labels[idx] + '-hog')\n",
    "        \n",
    "    save_plt_img(fig_handle=h, fname='hog_img_vehicle')\n",
    "        \n",
    "    h = plt.figure()\n",
    "    for idx in range(3):\n",
    "        plt.subplot(2,3, idx + 3 * 0 + 1);\n",
    "        display_img(img_nv[:, :, idx], img_labels[idx])\n",
    "        \n",
    "    for idx in range(3):\n",
    "        plt.subplot(2,3, idx + 3 * 1 + 1);\n",
    "        display_img(hog_image_nv[:, :, idx], img_labels[idx] + '-hog')\n",
    "        \n",
    "    save_plt_img(fig_handle=h, fname='hog_img_non_vehicle')        \n",
    "\n",
    "test_hog_features()"
   ]
  },
  {
   "cell_type": "code",
   "execution_count": null,
   "metadata": {
    "collapsed": false
   },
   "outputs": [],
   "source": [
    "features_file = 'features.pickle'\n",
    "\n",
    "if not os.path.exists(features_file):\n",
    "    print('Computing HOG features for the entire dataset...')\n",
    "    X = get_hog_features_batch(Img_pp)\n",
    "    print('Saving features into ' + features_file + '...')\n",
    "    pickle.dump(X, open(features_file, 'wb'))\n",
    "    print('Done')\n",
    "else:\n",
    "    print('Loading features from ' + features_file + '...')\n",
    "    X = pickle.load(open(features_file, 'rb'))\n",
    "    print('Done')\n",
    "    \n",
    "X = X.astype(np.float64)\n",
    "print(X.shape)"
   ]
  },
  {
   "cell_type": "markdown",
   "metadata": {},
   "source": [
    "## Dataset preparation"
   ]
  },
  {
   "cell_type": "code",
   "execution_count": null,
   "metadata": {
    "collapsed": false
   },
   "outputs": [],
   "source": [
    "def normalize_features(X):\n",
    "    X_scaler = StandardScaler().fit(X)    \n",
    "    return X_scaler.transform(X)    \n",
    "\n",
    "print('Normalizing features...')\n",
    "X_norm = normalize_features(X)\n",
    "print('Done')"
   ]
  },
  {
   "cell_type": "code",
   "execution_count": null,
   "metadata": {
    "collapsed": false
   },
   "outputs": [],
   "source": [
    "def split_validation(X, y):\n",
    "    val_ratio = 0.2\n",
    "    random_state = 918273645\n",
    "    return train_test_split(X, y, test_size = val_ratio, random_state = random_state)\n",
    "\n",
    "print('Splitting into train/validation set...')\n",
    "X_train, X_val, y_train, y_val = split_validation(X_norm, y)\n",
    "\n",
    "print('X_train: ', X_train.shape)\n",
    "print('X_val: ', X_val.shape)"
   ]
  },
  {
   "cell_type": "markdown",
   "metadata": {},
   "source": [
    "## Classifier Design"
   ]
  },
  {
   "cell_type": "code",
   "execution_count": null,
   "metadata": {
    "collapsed": true
   },
   "outputs": [],
   "source": [
    "def define_classifier():\n",
    "    svc = SVC()\n",
    "    return svc"
   ]
  },
  {
   "cell_type": "markdown",
   "metadata": {},
   "source": [
    "## Training"
   ]
  },
  {
   "cell_type": "code",
   "execution_count": null,
   "metadata": {
    "collapsed": false
   },
   "outputs": [],
   "source": [
    "def train_classifier(classifier, X_train, y_train):\n",
    "    classifier.fit(X_train, y_train)"
   ]
  },
  {
   "cell_type": "code",
   "execution_count": null,
   "metadata": {
    "collapsed": false
   },
   "outputs": [],
   "source": [
    "def save_classifier(classifier, path):\n",
    "    joblib.dump(classifier, path)"
   ]
  },
  {
   "cell_type": "code",
   "execution_count": null,
   "metadata": {
    "collapsed": true
   },
   "outputs": [],
   "source": [
    "def load_classifier(path):\n",
    "    return joblib.load(path)"
   ]
  },
  {
   "cell_type": "code",
   "execution_count": null,
   "metadata": {
    "collapsed": false
   },
   "outputs": [],
   "source": [
    "if not os.path.exists(get_classifier_path()):\n",
    "    # Create classifier\n",
    "    classifier = define_classifier()\n",
    "    \n",
    "    # Train it\n",
    "    print('Training classifier...')\n",
    "    t = time.time()\n",
    "    train_classifier(classifier, X_train, y_train)\n",
    "    print('Done in %.3f s' % (time.time() - t))\n",
    "    \n",
    "    # Save to disk for the future\n",
    "    save_classifier(classifier, get_classifier_path())\n",
    "else:\n",
    "    classifier = load_classifier(get_classifier_path())"
   ]
  },
  {
   "cell_type": "markdown",
   "metadata": {},
   "source": [
    "## Cross-validation"
   ]
  },
  {
   "cell_type": "code",
   "execution_count": null,
   "metadata": {
    "collapsed": false
   },
   "outputs": [],
   "source": [
    "def compute_validation_accuracy(classifier, X_val, y_val):\n",
    "    return classifier.score(X_val, y_val)\n",
    "    \n",
    "print('Validation accuracy: %.3f%%' % (100. * compute_validation_accuracy(classifier, X_val, y_val)))"
   ]
  },
  {
   "cell_type": "markdown",
   "metadata": {},
   "source": [
    "## Test on single image"
   ]
  },
  {
   "cell_type": "code",
   "execution_count": null,
   "metadata": {
    "collapsed": true
   },
   "outputs": [],
   "source": [
    "def classify_img(img):\n",
    "    # Preprocess\n",
    "    img = preprocess_img(img)\n",
    "    \n",
    "    # Extract and normalize features\n",
    "    x = get_hog_features(img)\n",
    "    x = normalize_features(x)\n",
    "    \n",
    "    # Predict\n",
    "    return classifier.predict(x)"
   ]
  },
  {
   "cell_type": "code",
   "execution_count": null,
   "metadata": {
    "collapsed": false
   },
   "outputs": [],
   "source": [
    "img_v_test = Img_v[0]\n",
    "t = time.time()\n",
    "y_v_predicted = classify_img(img_v_test)\n",
    "print('Time for classifying single 64x64 image: %.3f s' % (time.time() - t))\n",
    "\n",
    "img_nv_test = Img_nv[0]\n",
    "y_nv_predicted = classify_img(img_nv_test)\n",
    "\n",
    "h = plt.figure();\n",
    "plt.subplot(1,2,1);\n",
    "display_img(img_v_test, 'Prediction: %d (True: %d)' % (y_v_predicted, get_vehicle_label()))\n",
    "plt.subplot(1,2,2);\n",
    "display_img(img_nv_test, 'Prediction: %d (True: %d)' % (y_nv_predicted, get_non_vehicle_label()))\n",
    "\n",
    "save_plt_img(h, 'svm_test')"
   ]
  },
  {
   "cell_type": "markdown",
   "metadata": {},
   "source": [
    "---\n",
    "## Sliding Window Search"
   ]
  },
  {
   "cell_type": "code",
   "execution_count": null,
   "metadata": {
    "collapsed": true
   },
   "outputs": [],
   "source": [
    "class SearchWindow:\n",
    "    \n",
    "    def __init__(self, x0, y0, size_x, size_y):\n",
    "        self.x0 = x0\n",
    "        self.y0 = y0\n",
    "        self.size_x = size_x\n",
    "        self.size_y = size_y  \n",
    "        \n",
    "    def get_img_contents(self, img):\n",
    "        return img[self.y0 : self.y0 + self.size_y, \n",
    "                   self.x0 : self.x0 + self.size_x,\n",
    "                   :]\n",
    "    \n",
    "    def draw_on_img(self, img, color=(0,0,255), thickness=2):\n",
    "        p1 = (self.x0,               self.y0)\n",
    "        p2 = (self.x0,               self.y0 + self.size_y)\n",
    "        p3 = (self.x0 + self.size_x, self.y0 + self.size_y)\n",
    "        p4 = (self.x0 + self.size_x, self.y0)\n",
    "        \n",
    "        p = (p1, p2, p3, p4)\n",
    "        \n",
    "        for i in range(4):\n",
    "            cv2.line(img, p[i], p[(i+1) % 4], color=color, thickness=thickness)\n",
    "            \n",
    "    def contains_vehicle(self, img):\n",
    "        # Get image inside the window\n",
    "        img_box = self.get_img_contents(img)\n",
    "        \n",
    "        # Classify image\n",
    "        y = classify_img(img_box)\n",
    "        \n",
    "        # Return true if the prediction is a vehicle        \n",
    "        return True if y == get_vehicle_label() else False        "
   ]
  },
  {
   "cell_type": "code",
   "execution_count": null,
   "metadata": {
    "collapsed": false
   },
   "outputs": [],
   "source": [
    "def test_get_img_contents():\n",
    "    img = read_img('./test_images/test1.jpg')\n",
    "    window = SearchWindow(840,400,100,100)\n",
    "    display_img(window.get_img_contents(img), 'Contents of search window')\n",
    "    \n",
    "def test_draw_on_img():\n",
    "    img = read_img('./test_images/test1.jpg')\n",
    "    window = SearchWindow(840,400,100,100)    \n",
    "    window.draw_on_img(img, color = (255,0,0), thickness=5)\n",
    "    display_img(img, 'Drawn bounding box')\n",
    "\n",
    "plt.figure();\n",
    "test_draw_on_img()    \n",
    "plt.figure();\n",
    "test_get_img_contents()"
   ]
  },
  {
   "cell_type": "code",
   "execution_count": null,
   "metadata": {
    "collapsed": true
   },
   "outputs": [],
   "source": [
    "def get_search_windows(img_shape):\n",
    "    # Parameters\n",
    "    x_start = 0\n",
    "    y_start = img_shape[0] // 2\n",
    "    x_end = img_shape[1]\n",
    "    y_end = img_shape[0]\n",
    "    \n",
    "    size_start = 64\n",
    "    size_end = 512\n",
    "    size_step = 32\n",
    "\n",
    "    overlap = 0.8    \n",
    "\n",
    "    # Search windows\n",
    "    bboxes_out = []\n",
    "    for size in range(size_start, size_end, size_step):    \n",
    "        step = int((1.0 - overlap) * size) \n",
    "\n",
    "        for y in range(y_start, y_end - size, step):\n",
    "            for x in range(x_start, x_end - size, step):                \n",
    "                box = SearchWindow(x, y, size, size)\n",
    "                bboxes_out.append(box)\n",
    "        \n",
    "    return bboxes_out"
   ]
  },
  {
   "cell_type": "code",
   "execution_count": null,
   "metadata": {
    "collapsed": false
   },
   "outputs": [],
   "source": [
    "def draw_search_windows(img, windows, color, thickness):\n",
    "    for w in windows:\n",
    "        w.draw_on_img(img, color, thickness)"
   ]
  },
  {
   "cell_type": "code",
   "execution_count": null,
   "metadata": {
    "collapsed": false
   },
   "outputs": [],
   "source": [
    "def test_bboxes():\n",
    "    img = read_img('./test_images/test1.jpg')\n",
    "    bboxes = get_search_windows(img.shape)\n",
    "    print('Obtained %d boxes' % len(bboxes))\n",
    "    draw_search_windows(img, bboxes, color=(255,0,0), thickness=2)\n",
    "    plt.imshow(img)\n",
    "    save_cv_img(fname= 'search_boxes', img=img)\n",
    "    \n",
    "test_bboxes()"
   ]
  },
  {
   "cell_type": "code",
   "execution_count": null,
   "metadata": {
    "collapsed": true
   },
   "outputs": [],
   "source": [
    "def detect_vehicles(img, search_windows):\n",
    "    vehicle_windows = []\n",
    "    \n",
    "    for w in search_windows:\n",
    "        if w.contains_vehicle(img):\n",
    "            vehicle_windows.append(w)\n",
    "    \n",
    "    return vehicle_windows"
   ]
  },
  {
   "cell_type": "markdown",
   "metadata": {},
   "source": [
    "## Heat map"
   ]
  },
  {
   "cell_type": "code",
   "execution_count": null,
   "metadata": {
    "collapsed": false
   },
   "outputs": [],
   "source": [
    "def update_heat_map(heatmap, boxes):\n",
    "    for box in boxes:\n",
    "        # Add += 1 for all pixels inside each bbox\n",
    "        x_start = box.x0\n",
    "        x_end = x_start + box.size_x\n",
    "        y_start = box.y0\n",
    "        y_end = y_start + box.size_y\n",
    "        \n",
    "        heatmap[y_start:y_end, x_start:x_end] += 1\n",
    "\n",
    "    return heatmap\n",
    "\n",
    "def test_update_heat_map():\n",
    "    # Create heatmap\n",
    "    heatmap = np.zeros((480, 640), dtype = np.uint32)\n",
    "    \n",
    "    # Create boxes\n",
    "    boxes = []\n",
    "    boxes.append(SearchWindow(100,100,100,100))\n",
    "    boxes.append(SearchWindow(150, 150, 100,100))\n",
    "    boxes.append(SearchWindow(160, 160, 100,100))\n",
    "    boxes.append(SearchWindow(175, 175, 100,100))\n",
    "    boxes.append(SearchWindow(185, 185, 100,100))\n",
    "        \n",
    "    # Update\n",
    "    heatmap = update_heat_map(heatmap, boxes)\n",
    "    \n",
    "    # Display\n",
    "    h = plt.figure()\n",
    "    plt.imshow(heatmap, cmap='gist_heat')\n",
    "    \n",
    "test_update_heat_map()"
   ]
  },
  {
   "cell_type": "markdown",
   "metadata": {},
   "source": [
    "## Single Image pipeline"
   ]
  },
  {
   "cell_type": "code",
   "execution_count": null,
   "metadata": {
    "collapsed": true
   },
   "outputs": [],
   "source": [
    "class SingleImagePipeline:\n",
    "    def __init__(self, debug = False):\n",
    "        self.debug = debug\n",
    "        \n",
    "    def run(self, img):\n",
    "        # Get search windows\n",
    "        search_windows = get_search_windows(img.shape)\n",
    "        \n",
    "        # Get positive detection boxes\n",
    "        vehicle_windows = detect_vehicles(img, search_windows)\n",
    "        if self.debug:\n",
    "            draw_search_windows(img, vehicle_windows, color=(0,0,255), thickness=2)\n",
    "        \n",
    "        # Cluster boxes\n",
    "        #vehicle_windows = cluster_boxes(vehicle_windows)\n",
    "        \n",
    "        # Draw final boxes on image\n",
    "        draw_search_windows(img, vehicle_windows, color=(0,255,0), thickness=5)  \n",
    "        \n",
    "        # Output final image\n",
    "        return img"
   ]
  },
  {
   "cell_type": "markdown",
   "metadata": {},
   "source": [
    "## Test on images"
   ]
  },
  {
   "cell_type": "code",
   "execution_count": null,
   "metadata": {
    "collapsed": false,
    "scrolled": false
   },
   "outputs": [],
   "source": [
    "test_images = glob.glob('./test_images/*.jpg')\n",
    "\n",
    "for img_path in test_images:\n",
    "    _,img_name = os.path.split(img_path)\n",
    "    \n",
    "    # Read image\n",
    "    img = read_img(img_path)\n",
    "    \n",
    "    # Create a new LaneFindingPipeline\n",
    "    pipeline = SingleImagePipeline(debug = True)\n",
    "    \n",
    "    # Run it on the image\n",
    "    t = time.time()\n",
    "    img_out = pipeline.run(img)\n",
    "    print('Time for complete image: %.3f' % (time.time() - t))\n",
    "    \n",
    "    # Display\n",
    "    plt.figure();\n",
    "    display_img(img_out, img_name);\n",
    "    \n",
    "    # Save to disk\n",
    "    save_cv_img(img_out, os.path.splitext(img_name)[0] + '_processed')"
   ]
  },
  {
   "cell_type": "markdown",
   "metadata": {},
   "source": [
    "## Video pipeline"
   ]
  },
  {
   "cell_type": "markdown",
   "metadata": {},
   "source": [
    "## Test on video"
   ]
  }
 ],
 "metadata": {
  "kernelspec": {
   "display_name": "Python 3",
   "language": "python",
   "name": "python3"
  },
  "language_info": {
   "codemirror_mode": {
    "name": "ipython",
    "version": 3
   },
   "file_extension": ".py",
   "mimetype": "text/x-python",
   "name": "python",
   "nbconvert_exporter": "python",
   "pygments_lexer": "ipython3",
   "version": "3.5.2"
  }
 },
 "nbformat": 4,
 "nbformat_minor": 1
}
