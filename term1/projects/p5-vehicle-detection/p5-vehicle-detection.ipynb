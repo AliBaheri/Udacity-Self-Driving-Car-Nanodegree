{
 "cells": [
  {
   "cell_type": "markdown",
   "metadata": {
    "collapsed": true
   },
   "source": [
    "# Project 5 - Vehicle Detection and Tracking\n",
    "\n",
    "## Introduction\n",
    "\n",
    "In this project, we apply Computer Vision to the task of vehicle detection and tracking on a video feed."
   ]
  },
  {
   "cell_type": "code",
   "execution_count": 1,
   "metadata": {
    "collapsed": false
   },
   "outputs": [],
   "source": [
    "import os\n",
    "import math\n",
    "import cv2\n",
    "import glob\n",
    "import zipfile\n",
    "import numpy as np\n",
    "import matplotlib.pyplot as plt\n",
    "import matplotlib.image as mpimg\n",
    "from moviepy.editor import VideoFileClip\n",
    "from IPython.display import display, HTML\n",
    "from urllib.request import urlretrieve\n",
    "\n",
    "%matplotlib inline\n",
    "plt.rcParams['figure.figsize'] = (10.0, 10.0)"
   ]
  },
  {
   "cell_type": "code",
   "execution_count": 2,
   "metadata": {
    "collapsed": true
   },
   "outputs": [],
   "source": [
    "def get_output_dir():\n",
    "    output_dir = './output_images'\n",
    "    \n",
    "    if not os.path.isdir(output_dir):\n",
    "        os.mkdir(output_dir)\n",
    "    \n",
    "    return output_dir"
   ]
  },
  {
   "cell_type": "markdown",
   "metadata": {},
   "source": [
    "## Data download and unpacking"
   ]
  },
  {
   "cell_type": "code",
   "execution_count": 3,
   "metadata": {
    "collapsed": true
   },
   "outputs": [],
   "source": [
    "vehicles_file = 'vehicles.zip'\n",
    "non_vehicles_file = 'non-vehicles.zip'\n",
    "download_url_base = 'https://s3.amazonaws.com/udacity-sdc/Vehicle_Tracking/'"
   ]
  },
  {
   "cell_type": "code",
   "execution_count": 4,
   "metadata": {
    "collapsed": false
   },
   "outputs": [
    {
     "name": "stdout",
     "output_type": "stream",
     "text": [
      "Downloading vehicles.zip...\n",
      "File already in the filesystem!\n",
      "Downloading non-vehicles.zip...\n",
      "File already in the filesystem!\n"
     ]
    }
   ],
   "source": [
    "def download(url):\n",
    "    # Get file name\n",
    "    file = url.rsplit('/', 1)[-1]\n",
    "    \n",
    "    # Download\n",
    "    print('Downloading ' + file + '...')\n",
    "    if not os.path.isfile(file):\n",
    "        urlretrieve(url, file)\n",
    "        print('Download Finished')\n",
    "    else:\n",
    "        print('File already in the filesystem!')\n",
    "        \n",
    "download(url = download_url_base + vehicles_file)\n",
    "download(url = download_url_base + non_vehicles_file)"
   ]
  },
  {
   "cell_type": "code",
   "execution_count": 5,
   "metadata": {
    "collapsed": false
   },
   "outputs": [
    {
     "name": "stdout",
     "output_type": "stream",
     "text": [
      "File vehicles.zip already unpacked!\n",
      "File non-vehicles.zip already unpacked!\n"
     ]
    }
   ],
   "source": [
    "def unzip(file):\n",
    "    if not os.path.isdir(os.path.splitext(file)[0]):        \n",
    "        print('Unzipping ' + file + '...')\n",
    "        with zipfile.ZipFile(file,\"r\") as zip_ref:\n",
    "            zip_ref.extractall()\n",
    "    else:\n",
    "        print('File ' + file + ' already unpacked!')\n",
    "\n",
    "unzip(vehicles_file)\n",
    "unzip(non_vehicles_file)"
   ]
  },
  {
   "cell_type": "markdown",
   "metadata": {},
   "source": [
    "## Data loading"
   ]
  },
  {
   "cell_type": "markdown",
   "metadata": {},
   "source": [
    "## Data preprocessing"
   ]
  },
  {
   "cell_type": "markdown",
   "metadata": {},
   "source": [
    "## HOG feature extraction"
   ]
  },
  {
   "cell_type": "markdown",
   "metadata": {},
   "source": [
    "## Classifier Design"
   ]
  },
  {
   "cell_type": "markdown",
   "metadata": {},
   "source": [
    "## Training"
   ]
  },
  {
   "cell_type": "markdown",
   "metadata": {},
   "source": [
    "## Sliding Window Search"
   ]
  },
  {
   "cell_type": "markdown",
   "metadata": {},
   "source": [
    "## Single Image pipeline"
   ]
  },
  {
   "cell_type": "markdown",
   "metadata": {},
   "source": [
    "## Video pipeline"
   ]
  },
  {
   "cell_type": "markdown",
   "metadata": {},
   "source": [
    "## Test on images"
   ]
  },
  {
   "cell_type": "markdown",
   "metadata": {},
   "source": [
    "## Test on video"
   ]
  }
 ],
 "metadata": {
  "kernelspec": {
   "display_name": "Python 3",
   "language": "python",
   "name": "python3"
  },
  "language_info": {
   "codemirror_mode": {
    "name": "ipython",
    "version": 3
   },
   "file_extension": ".py",
   "mimetype": "text/x-python",
   "name": "python",
   "nbconvert_exporter": "python",
   "pygments_lexer": "ipython3",
   "version": "3.5.2"
  }
 },
 "nbformat": 4,
 "nbformat_minor": 1
}
