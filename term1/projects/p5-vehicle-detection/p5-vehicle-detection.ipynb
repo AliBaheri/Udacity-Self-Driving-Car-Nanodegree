{
 "cells": [
  {
   "cell_type": "markdown",
   "metadata": {
    "collapsed": true
   },
   "source": [
    "# Project 5 - Vehicle Detection and Tracking\n",
    "\n",
    "## Introduction\n",
    "\n",
    "In this project, we apply Computer Vision to the task of vehicle detection and tracking on a video feed."
   ]
  },
  {
   "cell_type": "code",
   "execution_count": 1,
   "metadata": {
    "collapsed": false
   },
   "outputs": [],
   "source": [
    "import os\n",
    "import math\n",
    "import cv2\n",
    "import glob\n",
    "import zipfile\n",
    "import numpy as np\n",
    "import matplotlib.pyplot as plt\n",
    "import matplotlib.image as mpimg\n",
    "from moviepy.editor import VideoFileClip\n",
    "from IPython.display import display, HTML\n",
    "from urllib.request import urlretrieve\n",
    "\n",
    "%matplotlib inline\n",
    "plt.rcParams['figure.figsize'] = (10.0, 10.0)"
   ]
  },
  {
   "cell_type": "code",
   "execution_count": 2,
   "metadata": {
    "collapsed": true
   },
   "outputs": [],
   "source": [
    "def get_output_dir():\n",
    "    output_dir = './output_images'\n",
    "    \n",
    "    if not os.path.isdir(output_dir):\n",
    "        os.mkdir(output_dir)\n",
    "    \n",
    "    return output_dir"
   ]
  },
  {
   "cell_type": "markdown",
   "metadata": {},
   "source": [
    "## Data download and unpacking"
   ]
  },
  {
   "cell_type": "code",
   "execution_count": 3,
   "metadata": {
    "collapsed": true
   },
   "outputs": [],
   "source": [
    "vehicles_file = 'vehicles.zip'\n",
    "non_vehicles_file = 'non-vehicles.zip'\n",
    "download_url_base = 'https://s3.amazonaws.com/udacity-sdc/Vehicle_Tracking/'"
   ]
  },
  {
   "cell_type": "code",
   "execution_count": 4,
   "metadata": {
    "collapsed": false
   },
   "outputs": [
    {
     "name": "stdout",
     "output_type": "stream",
     "text": [
      "Downloading vehicles.zip...\n",
      "File already in the filesystem!\n",
      "Downloading non-vehicles.zip...\n",
      "File already in the filesystem!\n"
     ]
    }
   ],
   "source": [
    "def download(url):\n",
    "    # Get file name\n",
    "    file = url.rsplit('/', 1)[-1]\n",
    "    \n",
    "    # Download\n",
    "    print('Downloading ' + file + '...')\n",
    "    if not os.path.isfile(file):\n",
    "        urlretrieve(url, file)\n",
    "        print('Download Finished')\n",
    "    else:\n",
    "        print('File already in the filesystem!')\n",
    "        \n",
    "download(url = download_url_base + vehicles_file)\n",
    "download(url = download_url_base + non_vehicles_file)"
   ]
  },
  {
   "cell_type": "code",
   "execution_count": 5,
   "metadata": {
    "collapsed": false,
    "scrolled": true
   },
   "outputs": [
    {
     "name": "stdout",
     "output_type": "stream",
     "text": [
      "File vehicles.zip already unpacked!\n",
      "File non-vehicles.zip already unpacked!\n"
     ]
    }
   ],
   "source": [
    "def unzip(file):\n",
    "    if not os.path.isdir(os.path.splitext(file)[0]):        \n",
    "        print('Unzipping ' + file + '...')\n",
    "        with zipfile.ZipFile(file,\"r\") as zip_ref:\n",
    "            zip_ref.extractall()\n",
    "    else:\n",
    "        print('File ' + file + ' already unpacked!')\n",
    "\n",
    "unzip(vehicles_file)\n",
    "unzip(non_vehicles_file)"
   ]
  },
  {
   "cell_type": "markdown",
   "metadata": {},
   "source": [
    "## Data loading"
   ]
  },
  {
   "cell_type": "code",
   "execution_count": 6,
   "metadata": {
    "collapsed": false
   },
   "outputs": [
    {
     "name": "stdout",
     "output_type": "stream",
     "text": [
      "Loading datasets...\n",
      "Vehicle training data:  (8792, 64, 64, 3) (8792,)\n",
      "Non-vehicle training data:  (9666, 64, 64, 3) (9666,)\n",
      "Combined dataset:  (18458, 64, 64, 3) (18458,)\n"
     ]
    }
   ],
   "source": [
    "def get_img_shape():\n",
    "    return (64, 64, 3)\n",
    "\n",
    "def load_dataset(class_base_folder, class_id):\n",
    "    # Get filenames recursively\n",
    "    f_names = glob.glob(class_base_folder + '/**/*.png')\n",
    "    \n",
    "    # Declare output arrays\n",
    "    n_img = len(f_names)\n",
    "    X = np.zeros((n_img,) + get_img_shape())\n",
    "    y = np.zeros((n_img,))\n",
    "    \n",
    "    # Read images and store them in memory\n",
    "    for i in range(n_img):\n",
    "        # Note: the input image is PNG, therefore a float32 array between 0.0 and 1.0\n",
    "        X[i] = mpimg.imread(f_names[i])\n",
    "        y[i] = class_id\n",
    "        \n",
    "    return X, y\n",
    "\n",
    "print('Loading datasets...')\n",
    "X_v, y_v = load_dataset('vehicles', 1)\n",
    "X_nv, y_nv = load_dataset('non-vehicles', 0)\n",
    "\n",
    "print('Vehicle training data: ', X_v.shape, y_v.shape)\n",
    "print('Non-vehicle training data: ', X_nv.shape, y_nv.shape)\n",
    "\n",
    "X = np.concatenate((X_v, X_nv))\n",
    "y = np.concatenate((y_v, y_nv))\n",
    "\n",
    "print('Combined dataset: ', X.shape, y.shape)"
   ]
  },
  {
   "cell_type": "markdown",
   "metadata": {},
   "source": [
    "## Data preprocessing"
   ]
  },
  {
   "cell_type": "markdown",
   "metadata": {},
   "source": [
    "## HOG feature extraction"
   ]
  },
  {
   "cell_type": "markdown",
   "metadata": {},
   "source": [
    "## Classifier Design"
   ]
  },
  {
   "cell_type": "markdown",
   "metadata": {},
   "source": [
    "## Training"
   ]
  },
  {
   "cell_type": "markdown",
   "metadata": {},
   "source": [
    "## Sliding Window Search"
   ]
  },
  {
   "cell_type": "markdown",
   "metadata": {},
   "source": [
    "## Single Image pipeline"
   ]
  },
  {
   "cell_type": "markdown",
   "metadata": {},
   "source": [
    "## Video pipeline"
   ]
  },
  {
   "cell_type": "markdown",
   "metadata": {},
   "source": [
    "## Test on images"
   ]
  },
  {
   "cell_type": "markdown",
   "metadata": {},
   "source": [
    "## Test on video"
   ]
  }
 ],
 "metadata": {
  "kernelspec": {
   "display_name": "Python 3",
   "language": "python",
   "name": "python3"
  },
  "language_info": {
   "codemirror_mode": {
    "name": "ipython",
    "version": 3
   },
   "file_extension": ".py",
   "mimetype": "text/x-python",
   "name": "python",
   "nbconvert_exporter": "python",
   "pygments_lexer": "ipython3",
   "version": "3.5.2"
  }
 },
 "nbformat": 4,
 "nbformat_minor": 1
}
