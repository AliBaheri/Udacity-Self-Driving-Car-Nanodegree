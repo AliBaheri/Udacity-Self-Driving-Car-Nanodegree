{
 "cells": [
  {
   "cell_type": "markdown",
   "metadata": {},
   "source": [
    "# Self-Driving Car Engineer Nanodegree\n",
    "\n",
    "## Deep Learning\n",
    "\n",
    "## Project: Build a Traffic Sign Recognition Classifier\n",
    "\n",
    "In this notebook, a template is provided for you to implement your functionality in stages which is required to successfully complete this project. If additional code is required that cannot be included in the notebook, be sure that the Python code is successfully imported and included in your submission, if necessary. Sections that begin with **'Implementation'** in the header indicate where you should begin your implementation for your project. Note that some sections of implementation are optional, and will be marked with **'Optional'** in the header.\n",
    "\n",
    "In addition to implementing code, there will be questions that you must answer which relate to the project and your implementation. Each section where you will answer a question is preceded by a **'Question'** header. Carefully read each question and provide thorough answers in the following text boxes that begin with **'Answer:'**. Your project submission will be evaluated based on your answers to each of the questions and the implementation you provide.\n",
    "\n",
    ">**Note:** Code and Markdown cells can be executed using the **Shift + Enter** keyboard shortcut. In addition, Markdown cells can be edited by typically double-clicking the cell to enter edit mode."
   ]
  },
  {
   "cell_type": "code",
   "execution_count": null,
   "metadata": {
    "collapsed": false
   },
   "outputs": [],
   "source": [
    "# Imports \n",
    "import os\n",
    "import numpy as np\n",
    "import tensorflow as tf\n",
    "import matplotlib.pyplot as plt\n",
    "import csv\n",
    "import zipfile\n",
    "import os\n",
    "from urllib.request import urlretrieve\n",
    "import cv2\n",
    "import sklearn.model_selection\n",
    "\n",
    "%matplotlib inline"
   ]
  },
  {
   "cell_type": "markdown",
   "metadata": {},
   "source": [
    "## Step 0: Dataset Download\n",
    "Download link: https://d17h27t6h515a5.cloudfront.net/topher/2016/October/5811165e_traffic-signs-data.zip/traffic-signs-data.zip.zip\n",
    "\n",
    "Rename train.p and test.p to train.pickle and test.pickle, respectively"
   ]
  },
  {
   "cell_type": "code",
   "execution_count": null,
   "metadata": {
    "collapsed": false
   },
   "outputs": [],
   "source": [
    "def download(url, file):\n",
    "    \"\"\"\n",
    "    Download file from <url>\n",
    "    :param url: URL to file\n",
    "    :param file: Local file path\n",
    "    \"\"\"\n",
    "    print('Downloading ' + file + '...')\n",
    "    if not os.path.isfile(file):\n",
    "        urlretrieve(url, file)\n",
    "        print('Download Finished')\n",
    "    else:\n",
    "        print('File already in the filesystem!')\n",
    "\n",
    "download('https://d17h27t6h515a5.cloudfront.net/topher/2016/October/5811165e_traffic-signs-data.zip/traffic-signs-data.zip.zip', 'traffic-signs-data.zip.zip')\n"
   ]
  },
  {
   "cell_type": "code",
   "execution_count": null,
   "metadata": {
    "collapsed": false
   },
   "outputs": [],
   "source": [
    "train_filename = 'train.pickle'\n",
    "test_filename = 'test.pickle'\n",
    "\n",
    "if not os.path.isfile(train_filename) or not os.path.isfile(test_filename):\n",
    "    # Unzip\n",
    "    print('Unzipping file...')\n",
    "    with zipfile.ZipFile(\"traffic-signs-data.zip.zip\",\"r\") as zip_ref:\n",
    "        zip_ref.extractall()\n",
    "\n",
    "    # Rename    \n",
    "    print('Renaming pickle files...')\n",
    "    os.rename('train.p', 'train.pickle')\n",
    "    os.rename('test.p', 'test.pickle')\n",
    "    print('Done')\n",
    "else:\n",
    "    print('Pickle files already in the filesystem!')\n"
   ]
  },
  {
   "cell_type": "markdown",
   "metadata": {},
   "source": [
    "---\n",
    "\n",
    "## Step 1: Dataset Exploration\n",
    "\n",
    "Visualize the German Traffic Signs Dataset. This is open ended, some suggestions include: plotting traffic signs images, plotting the count of each sign, etc. Be creative!\n",
    "\n",
    "\n",
    "The pickled data is a dictionary with 4 key/value pairs:\n",
    "\n",
    "- features -> the images pixel values, (width, height, channels)\n",
    "- labels -> the label of the traffic sign\n",
    "- sizes -> the original width and height of the image, (width, height)\n",
    "- coords -> coordinates of a bounding box around the sign in the image, (x1, y1, x2, y2). Based the original image (not the resized version)."
   ]
  },
  {
   "cell_type": "code",
   "execution_count": null,
   "metadata": {
    "collapsed": false
   },
   "outputs": [],
   "source": [
    "# Load pickled data\n",
    "import pickle\n",
    "\n",
    "# TODO: fill this in based on where you saved the training and testing data\n",
    "training_file = 'train.pickle'\n",
    "testing_file = 'test.pickle'\n",
    "\n",
    "with open(training_file, mode='rb') as f:\n",
    "    train = pickle.load(f)\n",
    "with open(testing_file, mode='rb') as f:\n",
    "    test = pickle.load(f)\n",
    "    \n",
    "X_train, y_train = train['features'], train['labels']\n",
    "X_test, y_test = test['features'], test['labels']"
   ]
  },
  {
   "cell_type": "code",
   "execution_count": null,
   "metadata": {
    "collapsed": false
   },
   "outputs": [],
   "source": [
    "### To start off let's do a basic data summary.\n",
    "# TODO: number of training examples\n",
    "n_train = len(y_train)\n",
    "\n",
    "# TODO: number of testing examples\n",
    "n_test = len(y_test)\n",
    "\n",
    "# TODO: what's the shape of an image?\n",
    "image_shape = X_train.shape[1:3]\n",
    "\n",
    "# TODO: how many classes are in the dataset\n",
    "n_classes = len(set(y_train))\n",
    "\n",
    "print(\"Number of training examples =\", n_train)\n",
    "print(\"Number of testing examples =\", n_test)\n",
    "print(\"Image data shape =\", image_shape)\n",
    "print(\"Number of classes =\", n_classes)"
   ]
  },
  {
   "cell_type": "code",
   "execution_count": null,
   "metadata": {
    "collapsed": true
   },
   "outputs": [],
   "source": [
    "### Data exploration visualization goes here.\n",
    "### Feel free to use as many code cells as needed."
   ]
  },
  {
   "cell_type": "code",
   "execution_count": null,
   "metadata": {
    "collapsed": false
   },
   "outputs": [],
   "source": [
    "# Shapes of the input arrays\n",
    "print(\"X_train.shape = \", X_train.shape)\n",
    "print(\"y_train.shape = \", y_train.shape)\n",
    "print(\"X_test.shape = \", X_test.shape)\n",
    "print(\"y_test.shape = \", y_test.shape)"
   ]
  },
  {
   "cell_type": "code",
   "execution_count": null,
   "metadata": {
    "collapsed": false
   },
   "outputs": [],
   "source": [
    "# Plot one example of the 43 different classes\n",
    "_, idx = np.unique(y_test, return_index=True)\n",
    "X_test_unique = X_test[idx, :, :, :]\n",
    "for i in range(0, len(idx)):\n",
    "    plt.subplot(4, 11, i+1)\n",
    "    plt.imshow(X_test_unique[i, :, :, :]);\n",
    "    plt.axis('off')"
   ]
  },
  {
   "cell_type": "code",
   "execution_count": null,
   "metadata": {
    "collapsed": false
   },
   "outputs": [],
   "source": [
    "# Print the labels\n",
    "labels_text = []\n",
    "with open('signnames.csv', 'r') as csvfile:\n",
    "    reader = csv.reader(csvfile, delimiter=',')\n",
    "    i = 0\n",
    "    for row in reader:\n",
    "        print(', '.join(row))        \n",
    "        if i > 0:\n",
    "            labels_text.append(row[1])        \n",
    "        i = i + 1"
   ]
  },
  {
   "cell_type": "code",
   "execution_count": null,
   "metadata": {
    "collapsed": false
   },
   "outputs": [],
   "source": [
    "# Display the number of examples for each class, for training and test set\n",
    "labels = np.array(range(0, n_classes))\n",
    "train_n_examples = np.zeros(n_classes, dtype=np.int32)\n",
    "test_n_examples = np.zeros(n_classes, dtype=np.int32)\n",
    "for i in labels:\n",
    "    # Get indices in Y that correspond to 'i', for train and test sets\n",
    "    train_n_examples[i] = sum(y_train == i)\n",
    "    test_n_examples[i] = sum(y_test == i)\n",
    "\n",
    "# Plot in a bar diagram\n",
    "plt.subplot(1,2,1)\n",
    "plt.bar(labels, train_n_examples);\n",
    "plt.title('Train set');\n",
    "plt.subplot(1,2,2)\n",
    "plt.bar(labels, test_n_examples);    \n",
    "plt.title('Test set');"
   ]
  },
  {
   "cell_type": "markdown",
   "metadata": {},
   "source": [
    "We can observe that the training data is **not equally distributed** among the different classes. This indicates that the algorithm will be more fine-tuned for those classes for which there are more examples. If we want to improve the network's ability to generalize, we should have roughly the same number of examples for each class. This could be accomplished by generating synthetic data.\n",
    "We have not been implemented in the project since the test accuracy was sufficient."
   ]
  },
  {
   "cell_type": "markdown",
   "metadata": {},
   "source": [
    "----\n",
    "\n",
    "## Step 2: Design and Test a Model Architecture\n",
    "\n",
    "Design and implement a deep learning model that learns to recognize traffic signs. Train and test your model on the [German Traffic Sign Dataset](http://benchmark.ini.rub.de/?section=gtsrb&subsection=dataset).\n",
    "\n",
    "There are various aspects to consider when thinking about this problem:\n",
    "\n",
    "- Your model can be derived from a deep feedforward net or a deep convolutional network.\n",
    "- Play around preprocessing techniques (normalization, rgb to grayscale, etc)\n",
    "- Number of examples per label (some have more than others).\n",
    "- Generate fake data.\n",
    "\n",
    "Here is an example of a [published baseline model on this problem](http://yann.lecun.com/exdb/publis/pdf/sermanet-ijcnn-11.pdf). It's not required to be familiar with the approach used in the paper but, it's good practice to try to read papers like these."
   ]
  },
  {
   "cell_type": "markdown",
   "metadata": {},
   "source": [
    "### Implementation\n",
    "\n",
    "Use the code cell (or multiple code cells, if necessary) to implement the first step of your project. Once you have completed your implementation and are satisfied with the results, be sure to thoroughly answer the questions that follow."
   ]
  },
  {
   "cell_type": "code",
   "execution_count": null,
   "metadata": {
    "collapsed": true
   },
   "outputs": [],
   "source": [
    "### Generate data additional (if you want to!)\n",
    "### and split the data into training/validation/testing sets here.\n",
    "### Feel free to use as many code cells as needed."
   ]
  },
  {
   "cell_type": "markdown",
   "metadata": {},
   "source": [
    "### Fake data generation\n",
    "We generate fake data in order for the network to be more robust and prevent overfitting. The following transformations are applied to each image of the training set, which is extended:\n",
    "\n",
    "  * Translation\n",
    "  * Rotation\n",
    "  * Scaling\n",
    "  * Shearing  \n",
    "  \n",
    "The dataset becomes then 10x bigger than the previous."
   ]
  },
  {
   "cell_type": "code",
   "execution_count": null,
   "metadata": {
    "collapsed": false
   },
   "outputs": [],
   "source": [
    "### Helper functions\n",
    "def apply_affine_transform(img, T):\n",
    "    rows, cols, ch = img.shape\n",
    "    return cv2.warpAffine(img, T, (cols, rows))\n",
    "\n",
    "def random_translate(img, max_relative_displacement = 0.1):\n",
    "    h, w =  img.shape[0:2]\n",
    "    \n",
    "    tx = np.random.uniform(-max_relative_displacement * w, max_relative_displacement * w)\n",
    "    ty = np.random.uniform(-max_relative_displacement * h, max_relative_displacement * h)\n",
    "    \n",
    "    T = np.array([[1.0, 0.0, tx], [0.0, 1.0, ty]], dtype = np.float32)\n",
    "\n",
    "    return apply_affine_transform(img, T)\n",
    "\n",
    "def random_rotate(img, max_angle_degrees = 15.0):\n",
    "    theta = np.random.uniform(-max_angle_degrees, max_angle_degrees) * np.pi/180.0\n",
    "    \n",
    "    c = np.cos(theta)\n",
    "    s = np.sin(theta)\n",
    "    \n",
    "    T = np.array([[c, -s, 0.0], [s, c, 0.0]], dtype = np.float32)\n",
    "    return apply_affine_transform(img, T)\n",
    "\n",
    "def random_scale(img, max_scale_factor = 0.1):    \n",
    "    sx = 1.0 + np.random.uniform(-max_scale_factor, max_scale_factor)\n",
    "    sy = 1.0 + np.random.uniform(-max_scale_factor, max_scale_factor)\n",
    "    \n",
    "    T = np.array([[sx, 0.0, 0.0], [0.0, sy, 0.0]], dtype = np.float32)\n",
    "    return apply_affine_transform(img, T)\n",
    "\n",
    "def random_shear(img, max_sheer_factor = 0.1):\n",
    "    kx = np.random.uniform(-max_sheer_factor, max_sheer_factor)\n",
    "    ky = np.random.uniform(-max_sheer_factor, max_sheer_factor)\n",
    "    \n",
    "    T = np.array([[1.0, kx, 0.0], [ky, 1.0, 0]], dtype = np.float32)\n",
    "    return apply_affine_transform(img, T)\n",
    "\n",
    "def jitter_image(img):\n",
    "    return random_shear(random_rotate(random_translate(img)))\n",
    "    \n",
    "def generate_fake_data(X, y):\n",
    "    X_fake = []\n",
    "    y_fake = []\n",
    "    n_fake_images = 8\n",
    "    \n",
    "    for i in range(X.shape[0]):\n",
    "        for j in range(n_fake_images):\n",
    "            X_fake.append(jitter_image(X[i]))\n",
    "            y_fake.append(y[i])\n",
    "        \n",
    "    return (np.array(X_fake), np.array(y_fake))\n",
    "\n",
    "def extend_training_data(X, y):\n",
    "    X_fake, y_fake = generate_fake_data(X, y)\n",
    "    \n",
    "    X = np.concatenate((X, X_fake), axis = 0)\n",
    "    y = np.concatenate((y, y_fake), axis = 0)\n",
    "    \n",
    "    return (X, y)   "
   ]
  },
  {
   "cell_type": "code",
   "execution_count": null,
   "metadata": {
    "collapsed": false
   },
   "outputs": [],
   "source": [
    "x_in = X_train[1000]\n",
    "x_out = jitter_image(x_in)\n",
    "\n",
    "plt.subplot(1,2,1)\n",
    "plt.imshow(np.squeeze(x_in), cmap='gray');\n",
    "plt.subplot(1,2,2)\n",
    "plt.imshow(np.squeeze(x_out), cmap='gray');"
   ]
  },
  {
   "cell_type": "code",
   "execution_count": null,
   "metadata": {
    "collapsed": false,
    "scrolled": true
   },
   "outputs": [],
   "source": [
    "X_train, y_train = extend_training_data(X_train, y_train)\n",
    "print('Extended training set size: ', X_train.shape)"
   ]
  },
  {
   "cell_type": "markdown",
   "metadata": {},
   "source": [
    "### Data preprocessing"
   ]
  },
  {
   "cell_type": "code",
   "execution_count": null,
   "metadata": {
    "collapsed": true
   },
   "outputs": [],
   "source": [
    "### Preprocess the data here.\n",
    "### Feel free to use as many code cells as needed."
   ]
  },
  {
   "cell_type": "code",
   "execution_count": null,
   "metadata": {
    "collapsed": false
   },
   "outputs": [],
   "source": [
    "### RGB to grayscale conversion. According to the paper, it gives better results\n",
    "def rgb_to_grayscale(img):\n",
    "    return cv2.cvtColor(img, cv2.COLOR_RGB2GRAY)\n",
    "\n",
    "### Normalization: zero mean and unit variance\n",
    "def normalization(x):\n",
    "    a = 0.1\n",
    "    b = 0.9\n",
    "    x_min = 0\n",
    "    x_max = 255\n",
    "    \n",
    "    return a + (x - x_min) * (b - a) / (x_max - x_min)\n",
    "\n",
    "def preprocess_set(dataset):\n",
    "    # Declare output array\n",
    "    shape = [x for x in dataset.shape]\n",
    "    shape[3] = 1 # Will convert to grayscale\n",
    "    dataset_preprocessed = np.zeros(shape)\n",
    "    \n",
    "    # Convert from RGB to grayscale\n",
    "    for i in range(0, dataset.shape[0]):\n",
    "        dataset_preprocessed[i, :, :, :] = np.expand_dims(rgb_to_grayscale(dataset[i, :, :]), axis=2)\n",
    "    \n",
    "    #dataset_preprocessed = dataset\n",
    "        \n",
    "    # Perform normalization\n",
    "    dataset_preprocessed = normalization(dataset_preprocessed)\n",
    "    \n",
    "    return dataset_preprocessed\n",
    "\n",
    "def one_hot_encoding(y_data, depth):\n",
    "    return np.eye(depth)[y_data]"
   ]
  },
  {
   "cell_type": "code",
   "execution_count": null,
   "metadata": {
    "collapsed": false
   },
   "outputs": [],
   "source": [
    "print('Preprocessing train and test datasets...')\n",
    "X_train_preprocessed = preprocess_set(X_train)\n",
    "X_test_preprocessed = preprocess_set(X_test)\n",
    "\n",
    "y_train_preprocessed = one_hot_encoding(y_train, depth = n_classes)\n",
    "y_test_preprocessed = one_hot_encoding(y_test, depth = n_classes)\n",
    "print('Done')"
   ]
  },
  {
   "cell_type": "code",
   "execution_count": null,
   "metadata": {
    "collapsed": false
   },
   "outputs": [],
   "source": [
    "print(X_train_preprocessed.shape)"
   ]
  },
  {
   "cell_type": "markdown",
   "metadata": {},
   "source": [
    "### Question 1 \n",
    "\n",
    "_Describe the techniques used to preprocess the data._"
   ]
  },
  {
   "cell_type": "markdown",
   "metadata": {},
   "source": [
    "**Answer:**\n",
    "\n",
    "The following techniques have been used to preprocess the data:\n",
    "\n",
    "* **RGB to grayscale conversion**. According to the paper, this results in a slightly better performance. In addition, this will make our network easier to train, since the input is a 32x32x1 image instead of 32x32x3. Besides, by examining the different signs to identify, we observe that there is sufficient information in the shape of the sign and its contents to rely on grayscale information. A different case would have been to classify between 'normal' signs and 'on-road work' signs, which are distinguished only by the background color in Europe (white/yellow).\n",
    "\n",
    "* **Normalization**. We implement a min-max scaling in the same way as it was done in the TensorFlow lab, given the good performance obtained. Another approach would have been to make each test image of zero mean and unit variance, but this would have taken considerably more time. Considering that the dataset (after generating fake data) is relatively big, we opted for a computationally cheaper solution."
   ]
  },
  {
   "cell_type": "markdown",
   "metadata": {},
   "source": [
    "### Dataset splitting"
   ]
  },
  {
   "cell_type": "code",
   "execution_count": null,
   "metadata": {
    "collapsed": false
   },
   "outputs": [],
   "source": [
    "### Dataset splitting\n",
    "validation_size = 0.1\n",
    "X_train_final, X_dev_final, y_train_final, y_dev_final = \\\n",
    "sklearn.model_selection.train_test_split(X_train_preprocessed, y_train_preprocessed, random_state=918273645)\n",
    "\n",
    "# Plot a few images to see if they look good\n",
    "plt.figure()\n",
    "plt.title('Training set')\n",
    "for i in range(4):\n",
    "    plt.subplot(2, 2, i + 1);\n",
    "    plt.imshow(np.squeeze(X_train_final[i, :, :, :]), cmap='gray');\n",
    "    plt.axis('off');\n",
    "\n",
    "plt.figure();\n",
    "plt.title('Validation set')\n",
    "for i in range(4):\n",
    "    plt.subplot(2, 2, i + 1);\n",
    "    plt.imshow(np.squeeze(X_dev_final[i, :, :, :]), cmap='gray');\n",
    "    plt.axis('off');\n"
   ]
  },
  {
   "cell_type": "markdown",
   "metadata": {},
   "source": [
    "### Question 2\n",
    "\n",
    "_Describe how you set up the training, validation and testing data for your model. If you generated additional data, why?_"
   ]
  },
  {
   "cell_type": "markdown",
   "metadata": {},
   "source": [
    "**Answer:**\n",
    "\n",
    "#### Dataset splitting\n",
    "We start with two datasets: `X_train_preprocessed`, `y_train_preprocessed`. In order to evaluate the performance of the network while tweaking its hyperparameters we must not use `y_train_preprocessed`, since we would indirectly be overfitting to this data. Instead, we create a **validation set**, that we use for evaluating the performance of the network. It's also usually called _development set_. This set is a subset of the complete `X_train_preprocessed` set. We perform the splitting using the `sklearn.model_selection.train_test_split` function.\n",
    "\n",
    "In summary, the following 3 datasets are used in the following:\n",
    "\n",
    "* `X_train_final`: 90% of `X_train_preprocessed`\n",
    "* `X_dev_final`: 10% of `X_train_preprocessed`\n",
    "* `y_train_final`: `y_train_preprocessed` (unchanged)\n",
    "\n",
    "We choose a 10% split rate because we want to use as much data for training as possible. Given that the extended dataset is pretty big (around 400000 images), a 10% is already enough to have a reasonable certainty that the results are solid.\n",
    "\n",
    "#### Fake data generation\n",
    "After training on the raw dataset, we observed that the network had a not good enough performance on the test set (around 87%). As some students pointed out in the forums, the main reason for this is insufficient training data. Therefore we generated an additional number of jittered versions of each image. This proves to be a very powerful solution against overfitting and provides robustness against affine transformations in the image. \n",
    "The fake dataset could have been extended by jittering the color, adding noise to the image, etc."
   ]
  },
  {
   "cell_type": "markdown",
   "metadata": {},
   "source": [
    "---\n",
    "## 2.1. Network architecture"
   ]
  },
  {
   "cell_type": "code",
   "execution_count": null,
   "metadata": {
    "collapsed": true
   },
   "outputs": [],
   "source": [
    "### Define your architecture here.\n",
    "### Feel free to use as many code cells as needed."
   ]
  },
  {
   "cell_type": "markdown",
   "metadata": {},
   "source": [
    "### 2.1.1 Helper functions"
   ]
  },
  {
   "cell_type": "code",
   "execution_count": null,
   "metadata": {
    "collapsed": true
   },
   "outputs": [],
   "source": [
    "### Helper functions\n",
    "def create_weights(shape):\n",
    "    return tf.Variable(tf.truncated_normal(shape, stddev=0.05))    \n",
    "    \n",
    "def create_biases(shape):    \n",
    "    return tf.Variable(tf.zeros(shape) + 0.05)\n",
    "\n",
    "def flatten_layer(layer):\n",
    "    # Shape is [batch_size, img_h, img_w, img_depth]    \n",
    "    layer_shape = layer.get_shape()\n",
    "    \n",
    "    # Number of features per image\n",
    "    num_features = layer_shape[1:4].num_elements()\n",
    "    \n",
    "    # Must reshape into [batch_size, n_features]. Since the batch_size is unknown\n",
    "    # we type -1 so tf will figure it out itself\n",
    "    return tf.reshape(layer, [-1, num_features])"
   ]
  },
  {
   "cell_type": "markdown",
   "metadata": {},
   "source": [
    "### 2.1.2 Convolutional layer\n",
    "\n",
    "This function creates a convolutional layer, taking as input a 4D tensor of shape [batch_size, width, height, depth]. The parameters are the filter size, number of filters, and options to include a Max Pooling layer and ReLU."
   ]
  },
  {
   "cell_type": "code",
   "execution_count": null,
   "metadata": {
    "collapsed": true
   },
   "outputs": [],
   "source": [
    "def create_conv_layer(input_layer,               # 4D tensor\n",
    "                      filter_size,               # scalar\n",
    "                      n_filters,                 # scalar\n",
    "                      use_pooling=True,          # boolean\n",
    "                      use_relu=True,             # boolean\n",
    "                      dropout_keep_prob=None     # tensor variable\n",
    "                     ):    \n",
    "    # Review https://www.tensorflow.org/versions/r0.11/api_docs/python/nn.html#conv2d\n",
    "    # for conventions about input shapes\n",
    "\n",
    "    # Create weights (4D tensor) and biases (1D vector)\n",
    "    input_depth = int(input_layer.get_shape()[3])\n",
    "    weight_shape = [filter_size, filter_size, input_depth, n_filters]\n",
    "    bias_shape = [n_filters]\n",
    "    \n",
    "    weights = create_weights(weight_shape)\n",
    "    biases = create_biases(bias_shape)\n",
    "    \n",
    "    # Convolution\n",
    "    layer = tf.nn.conv2d(input=input_layer, \n",
    "                         filter=weights,\n",
    "                         strides=[1,1,1,1], \n",
    "                         padding='SAME')\n",
    "    # Add bias\n",
    "    layer = tf.nn.bias_add(layer, biases)\n",
    "    \n",
    "    # Max pooling\n",
    "    if use_pooling:\n",
    "        layer = tf.nn.max_pool(value=layer,\n",
    "                               ksize=[1,2,2,1],\n",
    "                               strides=[1,2,2,1],\n",
    "                               padding='SAME')\n",
    "    \n",
    "    # ReLU. Should be applied before pooling. However the result is the same and in this\n",
    "    # case we perform fewer computations, since there are fewer pixels\n",
    "    if use_relu:\n",
    "        layer = tf.nn.relu(layer)\n",
    "    \n",
    "    # Dropout\n",
    "    if dropout_keep_prob is not None:\n",
    "        layer = tf.nn.dropout(layer, dropout_keep_prob)\n",
    "    \n",
    "    return layer\n"
   ]
  },
  {
   "cell_type": "markdown",
   "metadata": {},
   "source": [
    "### 2.1.3 Fully-connected layer\n",
    "This function creates a fully connected layer, taking as input a 2D matrix of shape [batch_size, n_features] and having a number of outputs as a parameter. It also includes an optional boolean argument to include ReLU or not."
   ]
  },
  {
   "cell_type": "code",
   "execution_count": null,
   "metadata": {
    "collapsed": true
   },
   "outputs": [],
   "source": [
    "def create_fc_layer(input_layer,               # 2D matrix [batch_size, n_inputs]\n",
    "                    n_outputs,                 # scalar\n",
    "                    use_relu=True,             # scalar\n",
    "                    dropout_keep_prob=None     # tensor variable\n",
    "                   ):        \n",
    "\n",
    "    n_inputs = int(input_layer.get_shape()[1])\n",
    "    weights = create_weights([n_inputs, n_outputs])\n",
    "    biases = create_biases([n_outputs])\n",
    "    \n",
    "    # XW + b\n",
    "    layer = tf.matmul(input_layer, weights)\n",
    "    layer = tf.nn.bias_add(layer, biases)\n",
    "    \n",
    "    # ReLU\n",
    "    if use_relu:\n",
    "        layer = tf.nn.relu(layer)\n",
    "    \n",
    "    # Dropout\n",
    "    if dropout_keep_prob is not None:\n",
    "        layer = tf.nn.dropout(layer, dropout_keep_prob)\n",
    "    \n",
    "    return layer   "
   ]
  },
  {
   "cell_type": "markdown",
   "metadata": {},
   "source": [
    "### 2.1.4 Network parameter design\n",
    "In the following code cell, we define the sizes of the layers of the convolutional neural network."
   ]
  },
  {
   "cell_type": "code",
   "execution_count": null,
   "metadata": {
    "collapsed": true
   },
   "outputs": [],
   "source": [
    "### Network parameters\n",
    "# Input\n",
    "img_size_w = X_train_final.shape[1]\n",
    "img_size_h = X_train_final.shape[2]\n",
    "img_size_d = X_train_final.shape[3]\n",
    "img_size_total = img_size_w * img_size_h * img_size_d\n",
    "\n",
    "# Conv layer 1\n",
    "conv1_filter_size = 5\n",
    "conv1_n_filters = 16\n",
    "\n",
    "# Conv layer 2\n",
    "conv2_filter_size = 5\n",
    "conv2_n_filters = 32\n",
    "\n",
    "# Conv layer 3\n",
    "conv3_filter_size = 5\n",
    "conv3_n_filters = 64\n",
    "\n",
    "# Fully Connected 1\n",
    "fc1_n_neurons = 512\n",
    "\n",
    "# Fully Connected 2\n",
    "fc2_n_neurons = n_classes"
   ]
  },
  {
   "cell_type": "markdown",
   "metadata": {},
   "source": [
    "### 2.1.5 Placeholder variables\n",
    "This code cell contains placeholder variables, i.e. variables that we feed with data inside the TensorFlow session."
   ]
  },
  {
   "cell_type": "code",
   "execution_count": null,
   "metadata": {
    "collapsed": false
   },
   "outputs": [],
   "source": [
    "### Placeholder variables\n",
    "# Input: batch of images - 4D tensor [batch_size, img_h, img_w, img_d]\n",
    "x = tf.placeholder(tf.float32, shape=[None, img_size_h, img_size_w, img_size_d])\n",
    "\n",
    "# Output: true class - 2D matrix, one-hot encoded value [batch_size, n_classes]\n",
    "y_true = tf.placeholder(tf.float32, shape=[None, n_classes])\n",
    "\n",
    "# True class (not hot encoded) vector [batch_size]\n",
    "y_true_class = tf.argmax(y_true, dimension=1)\n",
    "\n",
    "# Dropout keep probability\n",
    "dropout_keep_p = tf.placeholder(tf.float32)\n",
    "\n",
    "print('x = ', x)\n",
    "print('y_true = ', y_true)"
   ]
  },
  {
   "cell_type": "markdown",
   "metadata": {},
   "source": [
    "### 2.1.6 Network implementation\n",
    "After implementing some helper functions and designing the network, now we include code cells that actually implement each one of the layers of the convolutional neural network."
   ]
  },
  {
   "cell_type": "code",
   "execution_count": null,
   "metadata": {
    "collapsed": false
   },
   "outputs": [],
   "source": [
    "### Network architecture\n",
    "# First Layer: Conv + ReLU + Max pool\n",
    "conv1 = create_conv_layer(input_layer=x,\n",
    "                          filter_size=conv1_filter_size,\n",
    "                          n_filters=conv1_n_filters,\n",
    "                          use_pooling=True,\n",
    "                          use_relu=True,\n",
    "                          dropout_keep_prob=dropout_keep_p)\n",
    "print(\"Layer 1 = \", conv1)\n"
   ]
  },
  {
   "cell_type": "code",
   "execution_count": null,
   "metadata": {
    "collapsed": false
   },
   "outputs": [],
   "source": [
    "# Second Layer: Conv + ReLU + Max pool\n",
    "conv2 = create_conv_layer(input_layer=conv1,\n",
    "                          filter_size=conv2_filter_size,\n",
    "                          n_filters=conv2_n_filters,\n",
    "                          use_pooling=True,\n",
    "                          use_relu=True,\n",
    "                          dropout_keep_prob=dropout_keep_p)\n",
    "print(\"Layer 2 = \", conv2)"
   ]
  },
  {
   "cell_type": "code",
   "execution_count": null,
   "metadata": {
    "collapsed": false
   },
   "outputs": [],
   "source": [
    "# Third Layer: Conv + ReLU + Max pool\n",
    "conv3 = create_conv_layer(input_layer=conv2,\n",
    "                          filter_size=conv3_filter_size,\n",
    "                          n_filters=conv3_n_filters,\n",
    "                          use_pooling=True,\n",
    "                          use_relu=True,\n",
    "                          dropout_keep_prob=dropout_keep_p)\n",
    "print(\"Layer 3 = \", conv3)"
   ]
  },
  {
   "cell_type": "code",
   "execution_count": null,
   "metadata": {
    "collapsed": false
   },
   "outputs": [],
   "source": [
    "# Third Layer: Fully Connected + ReLU\n",
    "flattened_conv3 = flatten_layer(conv3)\n",
    "print(flattened_conv3)\n",
    "fc1 = create_fc_layer(input_layer=flattened_conv3,\n",
    "                      n_outputs=fc1_n_neurons,\n",
    "                      use_relu=True,\n",
    "                      dropout_keep_prob=dropout_keep_p)\n",
    "print(\"FC 1 = \", fc1)"
   ]
  },
  {
   "cell_type": "code",
   "execution_count": null,
   "metadata": {
    "collapsed": false
   },
   "outputs": [],
   "source": [
    "# Fourth Layer: Fully Connected\n",
    "# NOTE: ReLU is not used, since the output will go directly to the Softmax function\n",
    "fc2 = create_fc_layer(input_layer=fc1,\n",
    "                      n_outputs=fc2_n_neurons,\n",
    "                      use_relu=False,\n",
    "                      dropout_keep_prob=None)\n",
    "print(\"FC 2 = \", fc2)"
   ]
  },
  {
   "cell_type": "code",
   "execution_count": null,
   "metadata": {
    "collapsed": false
   },
   "outputs": [],
   "source": [
    "# Softmax\n",
    "y_predicted = tf.nn.softmax(fc2)\n",
    "y_predicted_class = tf.argmax(y_predicted, dimension=1)\n",
    "print(y_predicted)"
   ]
  },
  {
   "cell_type": "code",
   "execution_count": null,
   "metadata": {
    "collapsed": false
   },
   "outputs": [],
   "source": [
    "### Optimization\n",
    "cross_entropy = tf.nn.softmax_cross_entropy_with_logits(logits=fc2,\n",
    "                                                        labels=y_true)\n",
    "cost = tf.reduce_mean(cross_entropy)\n",
    "\n",
    "learning_rate = 0.0001\n",
    "optimizer = tf.train.AdamOptimizer(learning_rate).minimize(cost)"
   ]
  },
  {
   "cell_type": "markdown",
   "metadata": {},
   "source": [
    "### 2.1.7 Performance evaluation\n",
    "Finally, we define the computations required in order to obtain the training, validation and test accuracy, with which we can evaluate the performance of the proposed network."
   ]
  },
  {
   "cell_type": "code",
   "execution_count": null,
   "metadata": {
    "collapsed": true
   },
   "outputs": [],
   "source": [
    "### Performance evaluation\n",
    "# Check if the predicted class is equal to the true class\n",
    "is_correct_prediction = tf.equal(y_predicted_class, y_true_class)\n",
    "\n",
    "# Compute the accuracy by averaging out the previous variable\n",
    "accuracy = 100.0 * tf.reduce_mean(tf.cast(is_correct_prediction, tf.float32))"
   ]
  },
  {
   "cell_type": "markdown",
   "metadata": {},
   "source": [
    "### Question 3\n",
    "\n",
    "_What does your final architecture look like? (Type of model, layers, sizes, connectivity, etc.)  For reference on how to build a deep neural network using TensorFlow, see [Deep Neural Network in TensorFlow\n",
    "](https://classroom.udacity.com/nanodegrees/nd013/parts/fbf77062-5703-404e-b60c-95b78b2f3f9e/modules/6df7ae49-c61c-4bb2-a23e-6527e69209ec/lessons/b516a270-8600-4f93-a0a3-20dfeabe5da6/concepts/83a3a2a2-a9bd-4b7b-95b0-eb924ab14432) from the classroom._\n"
   ]
  },
  {
   "cell_type": "markdown",
   "metadata": {},
   "source": [
    "**Answer:**\n",
    "\n",
    "The architecture is shown in Figure 1, greatly inspired by the paper cited above.\n",
    "\n",
    "![alt text](res/architecture2.png \"Figure 1: Network Architecture\")\n",
    "\n",
    "\n",
    "It can be seen that it is a convolutional neural network, composed to:\n",
    "\n",
    "0. **Preprocessing step**. The input image (RGB) of 32x32x3 pixels is transformed into grayscale and normalized.\n",
    "\n",
    "1. **First Layer**: convolutional. Takes an input of 32x32x1 pixels and convolves it with 16 5x5x1 filters. Maxpooling reduces the size of the output by a half, obtaining 16x16x16.\n",
    "\n",
    "2. **Second layer**: convolutional. Takes an input of 16x16x16 pixels, and convolves with 32 5x5x1 filters. Again, maxpooling is used. The output is 8x8x32. \n",
    "\n",
    "3. **Third layer**: fully connected. We first flatten the previous input to a 2048\n",
    "feature vector. The layer has 128 neurons.\n",
    "\n",
    "4. **Fourth layer**: takes the previous 128-vector and outputs 43 neurons, the number\n",
    "of classes.\n",
    "\n",
    "5. **Classifier**, consisting on a `softmax` function followed by `argmax` to determine the most likely class for the given input. \n",
    "\n",
    "The model is relatively simple (only 2 convolutional and 2 fully-connected layers), but it proves itself to be very powerful."
   ]
  },
  {
   "cell_type": "markdown",
   "metadata": {},
   "source": [
    "---\n",
    "## 2.2 Network training"
   ]
  },
  {
   "cell_type": "code",
   "execution_count": null,
   "metadata": {
    "collapsed": true
   },
   "outputs": [],
   "source": [
    "### Train your model here.\n",
    "### Feel free to use as many code cells as needed."
   ]
  },
  {
   "cell_type": "code",
   "execution_count": null,
   "metadata": {
    "collapsed": false
   },
   "outputs": [],
   "source": [
    "# Training paramters\n",
    "n_epochs = 200\n",
    "train_batch_size = 128\n",
    "test_batch_size = 128\n",
    "\n",
    "n_batches = int(np.floor(X_train_final.shape[0] / train_batch_size))\n",
    "\n",
    "print (\"Training the network for %d epochs.\" % n_epochs)\n",
    "print (\"The batch size is %d, and there are %d training examples, so we use %d batches per epoch\" % (train_batch_size, X_train_final.shape[0], n_batches))"
   ]
  },
  {
   "cell_type": "code",
   "execution_count": null,
   "metadata": {
    "collapsed": true
   },
   "outputs": [],
   "source": [
    "# Helper function to get a batch from a dataset\n",
    "def get_batch(x, y, batch_size, batch_idx):\n",
    "    max_size = x.shape[0]\n",
    "    start_idx = batch_idx * batch_size\n",
    "\n",
    "    x_batch = x[start_idx : np.minimum(start_idx + batch_size, max_size), :, :, :]\n",
    "    y_batch = y[start_idx : np.minimum(start_idx + batch_size, max_size), :]\n",
    "    \n",
    "    return (x_batch, y_batch)"
   ]
  },
  {
   "cell_type": "code",
   "execution_count": null,
   "metadata": {
    "collapsed": false
   },
   "outputs": [],
   "source": [
    "def get_test_accuracy(x_data, y_data, batch_size):\n",
    "    n_batches = int(np.ceil(x_data.shape[0] / batch_size))\n",
    "    accuracies = np.zeros([n_batches])\n",
    "\n",
    "    for i in range(n_batches):\n",
    "         # Get batch\n",
    "        batch_x, batch_y = get_batch(x_data, y_data, batch_size, i)\n",
    "        \n",
    "        # Create feed dictionary\n",
    "        feed_data = {x: batch_x, y_true: batch_y, dropout_keep_p: 1.0}\n",
    "\n",
    "        # Feed it to the network and update the weights\n",
    "        accuracies[i] = sess.run(accuracy, feed_dict=feed_data)\n",
    "       \n",
    "    return np.mean(accuracies)"
   ]
  },
  {
   "cell_type": "code",
   "execution_count": null,
   "metadata": {
    "collapsed": true
   },
   "outputs": [],
   "source": [
    "# Create TensorFlow session and initialize variables\n",
    "sess = tf.Session()\n",
    "sess.run(tf.initialize_all_variables())"
   ]
  },
  {
   "cell_type": "code",
   "execution_count": null,
   "metadata": {
    "collapsed": false
   },
   "outputs": [],
   "source": [
    "# Train network\n",
    "training_accuracy = []\n",
    "validation_accuracy = [0]\n",
    "\n",
    "shuffle_idx = np.arange(0, X_train_final.shape[0])\n",
    "\n",
    "for i_epoch in range(n_epochs):\n",
    "    # Shuffle training data\n",
    "    np.random.shuffle(shuffle_idx)   \n",
    "    X_train_final = X_train_final[shuffle_idx]\n",
    "    y_train_final = y_train_final[shuffle_idx]\n",
    "    \n",
    "    # Loop through batches\n",
    "    for i_batch in range(n_batches):\n",
    "        # Get batch\n",
    "        batch_x_train, batch_y_train = get_batch(X_train_final, y_train_final, train_batch_size, i_batch)\n",
    "        \n",
    "        # Create feed dictionary\n",
    "        feed_data_train = {x: batch_x_train, y_true: batch_y_train, dropout_keep_p: 0.5}\n",
    "\n",
    "        # Feed it to the network and update the weights\n",
    "        sess.run(optimizer, feed_dict=feed_data_train)       \n",
    "\n",
    "        # Compute the training and validation accuracy\n",
    "        if (i_batch == n_batches - 1):\n",
    "            feed_data_train_acc = {x: batch_x_train, y_true: batch_y_train, dropout_keep_p: 1.0}\n",
    "            training_accuracy.append(sess.run(accuracy, feed_data_train_acc))\n",
    "            print('Epoch %d - training acc: %.1f%%' % (i_epoch, training_accuracy[-1]))\n"
   ]
  },
  {
   "cell_type": "code",
   "execution_count": null,
   "metadata": {
    "collapsed": false,
    "scrolled": true
   },
   "outputs": [],
   "source": [
    "# Plot training and validation accuracy, and print the final value\n",
    "iteration_vector = range(len(training_accuracy))\n",
    "\n",
    "plt.subplot(1,2,1)\n",
    "plt.plot(iteration_vector, np.array(training_accuracy));\n",
    "plt.title('Training accuracy');\n",
    "#print(training_accuracy)\n",
    "\n",
    "print(\"Final training accuracy: %.1f%%\" % (training_accuracy[-1]))\n",
    "\n",
    "#plt.subplot(1,2,2)\n",
    "#plt.plot(iteration_vector, validation_accuracy);\n",
    "#plt.title('Validation accuracy');\n",
    "#print(\"Final validation accuracy: %.1f%%\" % (100.0 * validation_accuracy[-1]))\n",
    "print('Validation accuracy: %.1f%%' % get_test_accuracy(X_dev_final, y_dev_final, test_batch_size))\n"
   ]
  },
  {
   "cell_type": "markdown",
   "metadata": {},
   "source": [
    "### 2.3 Saving network parameters"
   ]
  },
  {
   "cell_type": "code",
   "execution_count": null,
   "metadata": {
    "collapsed": false
   },
   "outputs": [],
   "source": [
    "saver = tf.train.Saver()\n",
    "model_dir = 'model'\n",
    "if not os.path.isdir(model_dir):\n",
    "    os.mkdir(model_dir)\n",
    "save_path = os.path.join(model_dir, 'model_e%d.ckpt' % n_epochs)\n",
    "saver.save(sess, save_path);"
   ]
  },
  {
   "cell_type": "markdown",
   "metadata": {},
   "source": [
    "### 2.3 Network evaluation on Test set"
   ]
  },
  {
   "cell_type": "code",
   "execution_count": null,
   "metadata": {
    "collapsed": false
   },
   "outputs": [],
   "source": [
    "print('Test accuracy: %.1f%%' % get_test_accuracy(X_test_preprocessed, y_test_preprocessed, test_batch_size))"
   ]
  },
  {
   "cell_type": "markdown",
   "metadata": {},
   "source": [
    "### Question 4\n",
    "\n",
    "_How did you train your model? (Type of optimizer, batch size, epochs, hyperparameters, etc.)_\n"
   ]
  },
  {
   "cell_type": "markdown",
   "metadata": {},
   "source": [
    "**Answer:**\n",
    "\n",
    "The model was trained using:\n",
    "\n",
    "* **Cost function**: cross-entropy with logits, following the example from the MNIST TensorFlow Lab.\n",
    "\n",
    "* **AdamOptimizer**. After watching lectures CS231n, it was observed that the GradientDescentOptimizer is not the best one, and actually pretty slow. AdamOptimizer was then recommended.\n",
    "\n",
    "* **Learning rate**: 0.0001, as suggested in the following [TensorFlow tutorial](https://www.youtube.com/watch?v=HMcx-zY8JSg&list=PL9Hr9sNUjfsmEu1ZniY0XpHSzl5uihcXZ). The documentation of AdapOptimizer suggests 0.001, but we found a smaller learning rate to provide slightly better results. It's already a fast optimizer, so it is better to step a bit slower and make sure the learning happens in a proper manner. \n",
    "\n",
    "* **Batch size**: 128 for both training and testing, in order to fit in GPU memory (4 GB). A power of 2 was chosen since GPU architectures can take advantage of this for more efficient processing.\n",
    "\n",
    "* **Dropout keep probability**: 0.5 for training and 1.0 for testing, as suggested in the lectures. This was extremely powerful to make the network more robust and prevent from overfitting."
   ]
  },
  {
   "cell_type": "markdown",
   "metadata": {},
   "source": [
    "### Question 5\n",
    "\n",
    "\n",
    "_What approach did you take in coming up with a solution to this problem?_"
   ]
  },
  {
   "cell_type": "markdown",
   "metadata": {},
   "source": [
    "**Answer:**\n",
    "\n",
    "The approach to solving the traffic sign recognition problem was to use a convolutional neural network. These type of networks are well suited for image processing problems (since convolutions are typical operations on them), \n",
    "and the number of required parameters is much smaller (since the weights are shared for every pixel in the image).\n",
    "\n",
    "The main reference was the paper cited above, where they propose a 2 conv + 2 FC network architecture. Many TensorFlow tutorials used this approach so it seemed like a robust and well-studied solution."
   ]
  },
  {
   "cell_type": "markdown",
   "metadata": {},
   "source": [
    "---\n",
    "\n",
    "## Step 3: Test a Model on New Images\n",
    "\n",
    "Take several pictures of traffic signs that you find on the web or around you (at least five), and run them through your classifier on your computer to produce example results. The classifier might not recognize some local signs but it could prove interesting nonetheless.\n",
    "\n",
    "You may find `signnames.csv` useful as it contains mappings from the class id (integer) to the actual sign name."
   ]
  },
  {
   "cell_type": "markdown",
   "metadata": {},
   "source": [
    "### Implementation\n",
    "\n",
    "Use the code cell (or multiple code cells, if necessary) to implement the first step of your project. Once you have completed your implementation and are satisfied with the results, be sure to thoroughly answer the questions that follow."
   ]
  },
  {
   "cell_type": "code",
   "execution_count": null,
   "metadata": {
    "collapsed": true
   },
   "outputs": [],
   "source": [
    "### Load the images and plot them here.\n",
    "### Feel free to use as many code cells as needed."
   ]
  },
  {
   "cell_type": "code",
   "execution_count": null,
   "metadata": {
    "collapsed": true
   },
   "outputs": [],
   "source": [
    "# Helper functions to process the input images\n",
    "def load_img(img_path):\n",
    "    img = cv2.imread(img_path)\n",
    "    return cv2.cvtColor(img, cv2.COLOR_BGR2RGB)\n",
    "\n",
    "def crop_img(img, crop_info):\n",
    "    crop_x1 = crop_info[0]\n",
    "    crop_y1 = crop_info[1]\n",
    "    crop_size = crop_info[2]\n",
    "    \n",
    "    return img[crop_y1:crop_y1 + crop_size, crop_x1:crop_x1 +  crop_size, :]\n",
    "    \n",
    "def resize_img(img, new_size):\n",
    "    return cv2.resize(img, new_size)"
   ]
  },
  {
   "cell_type": "code",
   "execution_count": null,
   "metadata": {
    "collapsed": false
   },
   "outputs": [],
   "source": [
    "# Read CSV containing: image path, crop_x, crop_y, class\n",
    "test_img_csv = 'test_img/test_img.csv'\n",
    "\n",
    "n_tests = 5\n",
    "X_test_own = np.zeros([n_tests, img_size_h, img_size_w, 3], dtype=np.float32)\n",
    "y_test_own_labels = np.zeros([n_tests], dtype=int)\n",
    "\n",
    "resize_size = (img_size_h, img_size_w)\n",
    "\n",
    "with open(test_img_csv, 'r') as csvfile:\n",
    "    i_img = 0\n",
    "    reader = csv.reader(csvfile, delimiter=',')    \n",
    "    for row in reader:\n",
    "        # Read information from CSV file\n",
    "        filename = row[0]\n",
    "        crop_info = np.array(row[1:4], dtype=int)\n",
    "        img_class = row[4]\n",
    "        \n",
    "        # Update test set\n",
    "        img = load_img(filename)\n",
    "        img = crop_img(img, crop_info)\n",
    "        img = resize_img(img, resize_size)\n",
    "        \n",
    "        X_test_own[i_img, :, :, :] = img\n",
    "        y_test_own_labels[i_img] = labels_text.index(img_class);\n",
    "        \n",
    "        # Plot image\n",
    "        plt.subplot(1, 5, i_img+1)\n",
    "        plt.imshow(img);\n",
    "        plt.title(img_class);\n",
    "        plt.axis('off')\n",
    "        i_img = i_img + 1\n",
    "\n",
    "# Preprocessing\n",
    "X_test_own = preprocess_set(X_test_own)\n",
    "y_test_own = one_hot_encoding(y_test_own_labels, n_classes)"
   ]
  },
  {
   "cell_type": "markdown",
   "metadata": {},
   "source": [
    "### Question 6\n",
    "\n",
    "_Choose five candidate images of traffic signs and provide them in the report. Are there any particular qualities of the image(s) that might make classification difficult? It would be helpful to plot the images in the notebook._\n",
    "\n"
   ]
  },
  {
   "cell_type": "markdown",
   "metadata": {},
   "source": [
    "## **Answer:**"
   ]
  },
  {
   "cell_type": "markdown",
   "metadata": {},
   "source": [
    "# TODO"
   ]
  },
  {
   "cell_type": "code",
   "execution_count": null,
   "metadata": {
    "collapsed": true
   },
   "outputs": [],
   "source": [
    "### Run the predictions here.\n",
    "### Feel free to use as many code cells as needed."
   ]
  },
  {
   "cell_type": "code",
   "execution_count": null,
   "metadata": {
    "collapsed": false
   },
   "outputs": [],
   "source": [
    "# Prediction\n",
    "y_pred_own_class = sess.run(y_predicted_class, feed_dict={x: X_test_own, dropout_keep_p: 1.0})\n",
    "\n",
    "for i in y_pred_own_class.astype(int):\n",
    "    print(labels_text[i])"
   ]
  },
  {
   "cell_type": "markdown",
   "metadata": {},
   "source": [
    "### Question 7\n",
    "\n",
    "_Is your model able to perform equally well on captured pictures or a live camera stream when compared to testing on the dataset?_\n"
   ]
  },
  {
   "cell_type": "markdown",
   "metadata": {},
   "source": [
    "# TODO"
   ]
  },
  {
   "cell_type": "markdown",
   "metadata": {},
   "source": [
    "**Answer:**"
   ]
  },
  {
   "cell_type": "code",
   "execution_count": null,
   "metadata": {
    "collapsed": false,
    "scrolled": false
   },
   "outputs": [],
   "source": [
    "### Visualize the softmax probabilities here.\n",
    "### Feel free to use as many code cells as needed.\n",
    "top_k_classes = 5\n",
    "y_pred_own_top_k_prob = tf.nn.top_k(y_predicted, top_k_classes);\n",
    "\n",
    "y_pred_own_prob, y_pred_own_idx = sess.run(y_pred_own_top_k_prob, feed_dict={x: X_test_own})\n",
    "\n",
    "for i in range(X_test_own.shape[0]):\n",
    "    plt.figure()\n",
    "    plt.imshow(np.squeeze(X_test_own[i, :, :, :]), cmap='gray')\n",
    "    text = ''\n",
    "    for j in range(top_k_classes):\n",
    "        text += labels_text[y_pred_own_idx[i, j]] + ' - %.1f%%' % (100.0 * y_pred_own_prob[i,j]) + '\\n'\n",
    "    plt.xlabel(text)    "
   ]
  },
  {
   "cell_type": "markdown",
   "metadata": {},
   "source": [
    "### Question 8\n",
    "\n",
    "*Use the model's softmax probabilities to visualize the **certainty** of its predictions, [`tf.nn.top_k`](https://www.tensorflow.org/versions/r0.11/api_docs/python/nn.html#top_k) could prove helpful here. Which predictions is the model certain of? Uncertain? If the model was incorrect in its initial prediction, does the correct prediction appear in the top k? (k should be 5 at most)*\n"
   ]
  },
  {
   "cell_type": "markdown",
   "metadata": {},
   "source": [
    "**Answer:**"
   ]
  },
  {
   "cell_type": "markdown",
   "metadata": {},
   "source": [
    "# TODO"
   ]
  },
  {
   "cell_type": "markdown",
   "metadata": {},
   "source": [
    "### Question 9\n",
    "_If necessary, provide documentation for how an interface was built for your model to load and classify newly-acquired images._\n"
   ]
  },
  {
   "cell_type": "markdown",
   "metadata": {},
   "source": [
    "**Answer:**"
   ]
  },
  {
   "cell_type": "markdown",
   "metadata": {},
   "source": [
    "The main interface for testing on new images is based on the CSV file `test_img/test_img.csv`. \n",
    "Each row represents a test example, in the form:\n",
    "    \n",
    "    `path-to-img, crop_top_left_x, crop_top_left_y, crop_size, sign_name`\n",
    "    \n",
    "Where:\n",
    "\n",
    "* `path-to-img`: path to the image to test.\n",
    "* `crop_top_left_x`: X coordinate of the top-left corner of the bounding box that contains the sign.\n",
    "* `crop_top_left_y`: Y coordinate of the top-left corner of the bounding box that contains the sign.\n",
    "* `crop_size`: size (in pixels) of the squared bounding box that contains the sign.\n",
    "* `sign_name`: name of the sign. It must be one of the names available in `signnames.csv`\n",
    "\n",
    "NOTE: the bounding box must be selected manually. It is recommended to keep the sign in the center, with around 10% extra margin around it for best performance. The network should be robust against displacements, rotations and scalings though.\n",
    "\n",
    "If the test has been properly added to `test_img/test_img.csv`, the previous function `process_tests()` takes care of loading and cropping the image, preprocessing it, feeding it to the network and output the output class, as well as the softmax probabilities. \n",
    "    "
   ]
  },
  {
   "cell_type": "markdown",
   "metadata": {},
   "source": [
    "> **Note**: Once you have completed all of the code implementations and successfully answered each question above, you may finalize your work by exporting the iPython Notebook as an HTML document. You can do this by using the menu above and navigating to  \\n\",\n",
    "    \"**File -> Download as -> HTML (.html)**. Include the finished document along with this notebook as your submission."
   ]
  },
  {
   "cell_type": "code",
   "execution_count": null,
   "metadata": {
    "collapsed": true
   },
   "outputs": [],
   "source": []
  }
 ],
 "metadata": {
  "anaconda-cloud": {},
  "kernelspec": {
   "display_name": "Python 3",
   "language": "python",
   "name": "python3"
  },
  "language_info": {
   "codemirror_mode": {
    "name": "ipython",
    "version": 3
   },
   "file_extension": ".py",
   "mimetype": "text/x-python",
   "name": "python",
   "nbconvert_exporter": "python",
   "pygments_lexer": "ipython3",
   "version": "3.5.2"
  }
 },
 "nbformat": 4,
 "nbformat_minor": 1
}
