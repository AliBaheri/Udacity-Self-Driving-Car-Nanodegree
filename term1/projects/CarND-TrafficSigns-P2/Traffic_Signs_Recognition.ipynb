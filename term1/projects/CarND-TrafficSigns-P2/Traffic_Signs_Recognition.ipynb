{
 "cells": [
  {
   "cell_type": "markdown",
   "metadata": {},
   "source": [
    "# Self-Driving Car Engineer Nanodegree\n",
    "\n",
    "## Deep Learning\n",
    "\n",
    "## Project: Build a Traffic Sign Recognition Classifier\n",
    "\n",
    "In this notebook, a template is provided for you to implement your functionality in stages which is required to successfully complete this project. If additional code is required that cannot be included in the notebook, be sure that the Python code is successfully imported and included in your submission, if necessary. Sections that begin with **'Implementation'** in the header indicate where you should begin your implementation for your project. Note that some sections of implementation are optional, and will be marked with **'Optional'** in the header.\n",
    "\n",
    "In addition to implementing code, there will be questions that you must answer which relate to the project and your implementation. Each section where you will answer a question is preceded by a **'Question'** header. Carefully read each question and provide thorough answers in the following text boxes that begin with **'Answer:'**. Your project submission will be evaluated based on your answers to each of the questions and the implementation you provide.\n",
    "\n",
    ">**Note:** Code and Markdown cells can be executed using the **Shift + Enter** keyboard shortcut. In addition, Markdown cells can be edited by typically double-clicking the cell to enter edit mode."
   ]
  },
  {
   "cell_type": "code",
   "execution_count": null,
   "metadata": {
    "collapsed": false
   },
   "outputs": [],
   "source": [
    "# Imports \n",
    "import numpy as np\n",
    "import tensorflow as tf\n",
    "import matplotlib.pyplot as plt\n",
    "import csv\n",
    "import zipfile\n",
    "import os\n",
    "from urllib.request import urlretrieve\n",
    "import cv2\n",
    "from tqdm import tqdm\n",
    "import sklearn.model_selection\n",
    "\n",
    "%matplotlib inline"
   ]
  },
  {
   "cell_type": "markdown",
   "metadata": {},
   "source": [
    "## Step 0: Dataset Download\n",
    "Download link: https://d17h27t6h515a5.cloudfront.net/topher/2016/October/5811165e_traffic-signs-data.zip/traffic-signs-data.zip.zip\n",
    "\n",
    "Rename train.p and test.p to train.pickle and test.pickle, respectively"
   ]
  },
  {
   "cell_type": "code",
   "execution_count": null,
   "metadata": {
    "collapsed": false
   },
   "outputs": [],
   "source": [
    "def download(url, file):\n",
    "    \"\"\"\n",
    "    Download file from <url>\n",
    "    :param url: URL to file\n",
    "    :param file: Local file path\n",
    "    \"\"\"\n",
    "    print('Downloading ' + file + '...')\n",
    "    if not os.path.isfile(file):\n",
    "        urlretrieve(url, file)\n",
    "        print('Download Finished')\n",
    "    else:\n",
    "        print('File already in the filesystem!')\n",
    "\n",
    "download('https://d17h27t6h515a5.cloudfront.net/topher/2016/October/5811165e_traffic-signs-data.zip/traffic-signs-data.zip.zip', 'traffic-signs-data.zip.zip')\n"
   ]
  },
  {
   "cell_type": "code",
   "execution_count": null,
   "metadata": {
    "collapsed": false
   },
   "outputs": [],
   "source": [
    "train_filename = 'train.pickle'\n",
    "test_filename = 'test.pickle'\n",
    "\n",
    "if not os.path.isfile(train_filename) or not os.path.isfile(test_filename):\n",
    "    # Unzip\n",
    "    print('Unzipping file...')\n",
    "    with zipfile.ZipFile(\"traffic-signs-data.zip.zip\",\"r\") as zip_ref:\n",
    "        zip_ref.extractall()\n",
    "\n",
    "    # Rename    \n",
    "    print('Renaming pickle files...')\n",
    "    os.rename('train.p', 'train.pickle')\n",
    "    os.rename('test.p', 'test.pickle')\n",
    "    print('Done')\n",
    "else:\n",
    "    print('Pickle files already in the filesystem!')\n"
   ]
  },
  {
   "cell_type": "markdown",
   "metadata": {},
   "source": [
    "---\n",
    "\n",
    "## Step 1: Dataset Exploration\n",
    "\n",
    "Visualize the German Traffic Signs Dataset. This is open ended, some suggestions include: plotting traffic signs images, plotting the count of each sign, etc. Be creative!\n",
    "\n",
    "\n",
    "The pickled data is a dictionary with 4 key/value pairs:\n",
    "\n",
    "- features -> the images pixel values, (width, height, channels)\n",
    "- labels -> the label of the traffic sign\n",
    "- sizes -> the original width and height of the image, (width, height)\n",
    "- coords -> coordinates of a bounding box around the sign in the image, (x1, y1, x2, y2). Based the original image (not the resized version)."
   ]
  },
  {
   "cell_type": "code",
   "execution_count": null,
   "metadata": {
    "collapsed": false
   },
   "outputs": [],
   "source": [
    "# Load pickled data\n",
    "import pickle\n",
    "\n",
    "# TODO: fill this in based on where you saved the training and testing data\n",
    "training_file = 'train.pickle'\n",
    "testing_file = 'test.pickle'\n",
    "\n",
    "with open(training_file, mode='rb') as f:\n",
    "    train = pickle.load(f)\n",
    "with open(testing_file, mode='rb') as f:\n",
    "    test = pickle.load(f)\n",
    "    \n",
    "X_train, y_train = train['features'], train['labels']\n",
    "X_test, y_test = test['features'], test['labels']"
   ]
  },
  {
   "cell_type": "code",
   "execution_count": null,
   "metadata": {
    "collapsed": false
   },
   "outputs": [],
   "source": [
    "### To start off let's do a basic data summary.\n",
    "# TODO: number of training examples\n",
    "n_train = len(y_train)\n",
    "\n",
    "# TODO: number of testing examples\n",
    "n_test = len(y_test)\n",
    "\n",
    "# TODO: what's the shape of an image?\n",
    "image_shape = X_train.shape[1:3]\n",
    "\n",
    "# TODO: how many classes are in the dataset\n",
    "n_classes = len(set(y_train))\n",
    "\n",
    "print(\"Number of training examples =\", n_train)\n",
    "print(\"Number of testing examples =\", n_test)\n",
    "print(\"Image data shape =\", image_shape)\n",
    "print(\"Number of classes =\", n_classes)"
   ]
  },
  {
   "cell_type": "code",
   "execution_count": null,
   "metadata": {
    "collapsed": true
   },
   "outputs": [],
   "source": [
    "### Data exploration visualization goes here.\n",
    "### Feel free to use as many code cells as needed."
   ]
  },
  {
   "cell_type": "code",
   "execution_count": null,
   "metadata": {
    "collapsed": false
   },
   "outputs": [],
   "source": [
    "# Plot one example of the 43 different classes\n",
    "_, idx = np.unique(y_test, return_index=True)\n",
    "X_test_unique = X_test[idx, :, :, :]\n",
    "for i in range(0, len(idx)):\n",
    "    plt.subplot(4, 11, i+1)\n",
    "    plt.imshow(X_test_unique[i, :, :, :]);\n",
    "    plt.axis('off')"
   ]
  },
  {
   "cell_type": "code",
   "execution_count": null,
   "metadata": {
    "collapsed": false
   },
   "outputs": [],
   "source": [
    "# Print the labels\n",
    "with open('signnames.csv', 'r') as csvfile:\n",
    "    reader = csv.reader(csvfile, delimiter=',', quotechar='|')\n",
    "    for row in reader:\n",
    "        print(', '.join(row))"
   ]
  },
  {
   "cell_type": "code",
   "execution_count": null,
   "metadata": {
    "collapsed": false
   },
   "outputs": [],
   "source": [
    "# Display the number of examples for each class, for training and test set\n",
    "labels = np.array(range(0, n_classes))\n",
    "train_n_examples = np.zeros(n_classes, dtype=np.int32)\n",
    "test_n_examples = np.zeros(n_classes, dtype=np.int32)\n",
    "for i in labels:\n",
    "    # Get indices in Y that correspond to 'i', for train and test sets\n",
    "    train_n_examples[i] = sum(y_train == i)\n",
    "    test_n_examples[i] = sum(y_test == i)\n",
    "\n",
    "# Plot in a bar diagram\n",
    "plt.subplot(1,2,1)\n",
    "plt.bar(labels, train_n_examples);\n",
    "plt.title('Train set');\n",
    "plt.subplot(1,2,2)\n",
    "plt.bar(labels, test_n_examples);    \n",
    "plt.title('Test set');"
   ]
  },
  {
   "cell_type": "markdown",
   "metadata": {},
   "source": [
    "We can observe that the training data is **not equally distributed** among the different classes. This indicates that the algorithm will be more fine-tuned for those classes for which there are more examples. If we want to improve the network's ability to generalize, we should have roughly the same number of examples for each class. This could be accomplished by generating synthetic data."
   ]
  },
  {
   "cell_type": "markdown",
   "metadata": {},
   "source": [
    "----\n",
    "\n",
    "## Step 2: Design and Test a Model Architecture\n",
    "\n",
    "Design and implement a deep learning model that learns to recognize traffic signs. Train and test your model on the [German Traffic Sign Dataset](http://benchmark.ini.rub.de/?section=gtsrb&subsection=dataset).\n",
    "\n",
    "There are various aspects to consider when thinking about this problem:\n",
    "\n",
    "- Your model can be derived from a deep feedforward net or a deep convolutional network.\n",
    "- Play around preprocessing techniques (normalization, rgb to grayscale, etc)\n",
    "- Number of examples per label (some have more than others).\n",
    "- Generate fake data.\n",
    "\n",
    "Here is an example of a [published baseline model on this problem](http://yann.lecun.com/exdb/publis/pdf/sermanet-ijcnn-11.pdf). It's not required to be familiar with the approach used in the paper but, it's good practice to try to read papers like these."
   ]
  },
  {
   "cell_type": "markdown",
   "metadata": {},
   "source": [
    "### Implementation\n",
    "\n",
    "Use the code cell (or multiple code cells, if necessary) to implement the first step of your project. Once you have completed your implementation and are satisfied with the results, be sure to thoroughly answer the questions that follow."
   ]
  },
  {
   "cell_type": "code",
   "execution_count": null,
   "metadata": {
    "collapsed": true
   },
   "outputs": [],
   "source": [
    "### Preprocess the data here.\n",
    "### Feel free to use as many code cells as needed."
   ]
  },
  {
   "cell_type": "code",
   "execution_count": null,
   "metadata": {
    "collapsed": false
   },
   "outputs": [],
   "source": [
    "### RGB to grayscale conversion. According to the paper, it gives better results\n",
    "def rgb_to_grayscale(img):\n",
    "    return cv2.cvtColor(img, cv2.COLOR_BGR2GRAY)\n",
    "\n",
    "### Normalization: zero mean and unit variance\n",
    "def normalization(x):\n",
    "    a = 0.1\n",
    "    b = 0.9\n",
    "    x_min = 0\n",
    "    x_max = 255\n",
    "    \n",
    "    return a + (x - x_min) * (b - a) / (x_max - x_min)\n",
    "\n",
    "def preprocess_set(dataset):\n",
    "    # Declare output array\n",
    "    shape = [x for x in dataset.shape]\n",
    "    #shape[3] = 1  # Convert to grayscale\n",
    "    dataset_preprocessed = np.zeros(shape)\n",
    "\n",
    "    print(dataset_preprocessed.shape)\n",
    "    \n",
    "    # Convert from RGB to grayscale\n",
    "    #for i in range(0, dataset.shape[0]):\n",
    "        #shape_final =  [dataset.shape[1], dataset.shape[2], 1]\n",
    "        #img_gray = rgb_to_grayscale(dataset[i, :, :, :])\n",
    "        #img_gray = tf.expand_dims(img_gray, 2)\n",
    "        #print(img_gray.get_shape())\n",
    "        #dataset_preprocessed[i, :, :, :] = img_gray\n",
    "    dataset_preprocessed = dataset\n",
    "    \n",
    "    # Perform normalization\n",
    "    dataset_preprocessed = normalization(dataset_preprocessed)\n",
    "    \n",
    "    return dataset_preprocessed\n",
    "\n",
    "def one_hot_encoding(y_data, depth):\n",
    "    return np.eye(depth)[y_data]"
   ]
  },
  {
   "cell_type": "code",
   "execution_count": null,
   "metadata": {
    "collapsed": false
   },
   "outputs": [],
   "source": [
    "print('Preprocessing train and test datasets...')\n",
    "X_train_preprocessed = preprocess_set(X_train)\n",
    "X_test_preprocessed = preprocess_set(X_test)\n",
    "\n",
    "y_train_preprocessed = one_hot_encoding(y_train, depth = n_classes)\n",
    "y_test_preprocessed = one_hot_encoding(y_test, depth = n_classes)\n",
    "print('Done')"
   ]
  },
  {
   "cell_type": "markdown",
   "metadata": {},
   "source": [
    "### Question 1 \n",
    "\n",
    "_Describe the techniques used to preprocess the data._"
   ]
  },
  {
   "cell_type": "markdown",
   "metadata": {},
   "source": [
    "**Answer:**\n",
    "\n",
    "The following techniques have been used to preprocess the data:\n",
    "\n",
    "-**RGB to grayscale conversion**. According to the paper, this results in a slightly better performance. In addition, this will make our network easier to train, since the input is a 32x32 image instead of 32x32x3\n",
    "\n",
    "-**Normalization**. The goal is to make the inputs have approximately zero mean and unit variance."
   ]
  },
  {
   "cell_type": "code",
   "execution_count": null,
   "metadata": {
    "collapsed": true
   },
   "outputs": [],
   "source": [
    "### Generate data additional (if you want to!)\n",
    "### and split the data into training/validation/testing sets here.\n",
    "### Feel free to use as many code cells as needed."
   ]
  },
  {
   "cell_type": "code",
   "execution_count": null,
   "metadata": {
    "collapsed": false
   },
   "outputs": [],
   "source": [
    "### Additional data generation"
   ]
  },
  {
   "cell_type": "code",
   "execution_count": null,
   "metadata": {
    "collapsed": false
   },
   "outputs": [],
   "source": [
    "### Dataset splitting\n",
    "validation_size = 0.25\n",
    "X_train_final, X_dev_final, y_train_final, y_dev_final = \\\n",
    "sklearn.model_selection.train_test_split(X_train_preprocessed, y_train_preprocessed, random_state=918273645)\n"
   ]
  },
  {
   "cell_type": "markdown",
   "metadata": {},
   "source": [
    "### Question 2\n",
    "\n",
    "_Describe how you set up the training, validation and testing data for your model. If you generated additional data, why?_"
   ]
  },
  {
   "cell_type": "markdown",
   "metadata": {},
   "source": [
    "**Answer:**"
   ]
  },
  {
   "cell_type": "markdown",
   "metadata": {},
   "source": [
    "---\n",
    "## 2.1. Network architecture"
   ]
  },
  {
   "cell_type": "code",
   "execution_count": null,
   "metadata": {
    "collapsed": true
   },
   "outputs": [],
   "source": [
    "### Define your architecture here.\n",
    "### Feel free to use as many code cells as needed."
   ]
  },
  {
   "cell_type": "code",
   "execution_count": null,
   "metadata": {
    "collapsed": true
   },
   "outputs": [],
   "source": [
    "### Helper functions\n",
    "def create_weights(shape):\n",
    "    return tf.Variable(tf.truncated_normal(shape))    \n",
    "    \n",
    "def create_biases(shape):    \n",
    "    return tf.Variable(tf.zeros(shape))"
   ]
  },
  {
   "cell_type": "code",
   "execution_count": null,
   "metadata": {
    "collapsed": true
   },
   "outputs": [],
   "source": [
    "def flatten_layer(layer):\n",
    "    # Shape is [batch_size, img_w, img_h, img_depth]    \n",
    "    layer_shape = layer.get_shape()\n",
    "    \n",
    "    # Number of features per image\n",
    "    num_features = np.array(layer_shape[1:4], dtype=int).prod()\n",
    "    \n",
    "    # Must reshape into [batch_size, n_features]. Since the batch_size is unknown\n",
    "    # we type -1 so tf will figure it out itself\n",
    "    return tf.reshape(layer, [-1, num_features])"
   ]
  },
  {
   "cell_type": "code",
   "execution_count": null,
   "metadata": {
    "collapsed": true
   },
   "outputs": [],
   "source": [
    "def create_conv_layer(input_layer,          # 4D tensor\n",
    "                      filter_size,          # scalar\n",
    "                      n_filters,            # scalar\n",
    "                      use_pooling=True,\n",
    "                      use_relu=True):    # boolean\n",
    "    # Review https://www.tensorflow.org/versions/r0.11/api_docs/python/nn.html#conv2d\n",
    "    # for conventions about input shapes\n",
    "\n",
    "    # Create weights (4D tensor) and biases (1D vector)\n",
    "    input_depth = int(input_layer.get_shape()[3])\n",
    "    weight_shape = [filter_size, filter_size, input_depth, n_filters]\n",
    "    bias_shape = [n_filters]\n",
    "    \n",
    "    weights = create_weights(weight_shape)\n",
    "    biases = create_biases(bias_shape)\n",
    "    \n",
    "    # Convolution\n",
    "    layer = tf.nn.conv2d(input=input_layer, \n",
    "                         filter=weights,\n",
    "                         strides=[1,1,1,1], \n",
    "                         padding='SAME')\n",
    "    # Add bias\n",
    "    layer = tf.nn.bias_add(layer, biases)\n",
    "    \n",
    "    # Max pooling\n",
    "    if use_pooling:\n",
    "        layer = tf.nn.max_pool(value=layer,\n",
    "                               ksize=[1,2,2,1],\n",
    "                               strides=[1,2,2,1],\n",
    "                               padding='SAME')\n",
    "    \n",
    "    # ReLU. Should be applied before pooling. However the result is the same and in this\n",
    "    # case we perform fewer computations, since there are fewer pixels\n",
    "    if use_relu:\n",
    "        layer = tf.nn.relu(layer)\n",
    "    \n",
    "    return layer\n"
   ]
  },
  {
   "cell_type": "code",
   "execution_count": null,
   "metadata": {
    "collapsed": true
   },
   "outputs": [],
   "source": [
    "def create_fc_layer(input_layer,       # 2D matrix [?, n_inputs]\n",
    "                    n_outputs,\n",
    "                    use_relu=True):        # scalar\n",
    "\n",
    "    n_inputs = int(input_layer.get_shape()[1])\n",
    "    weights = create_weights([n_inputs, n_outputs])\n",
    "    biases = create_biases([n_outputs])\n",
    "    \n",
    "    # XW + b\n",
    "    layer = tf.matmul(input_layer, weights) + biases\n",
    "    \n",
    "    # ReLU\n",
    "    if use_relu:\n",
    "        layer = tf.nn.relu(layer)\n",
    "    \n",
    "    return layer   "
   ]
  },
  {
   "cell_type": "code",
   "execution_count": null,
   "metadata": {
    "collapsed": true
   },
   "outputs": [],
   "source": [
    "### Network parameters\n",
    "# Input\n",
    "img_size_w = X_train.shape[1]\n",
    "img_size_h = X_train.shape[2]\n",
    "img_size_d = X_train.shape[3]\n",
    "img_size_total = img_size_w * img_size_h * img_size_d\n",
    "\n",
    "# Conv layer 1\n",
    "layer1_filter_size = 5\n",
    "layer1_n_filters = 16\n",
    "\n",
    "# Conv layer 2\n",
    "layer2_filter_size = 5\n",
    "layer2_n_filters = 32\n",
    "\n",
    "# Fully Connected 1\n",
    "fc1_n_neurons = 128\n",
    "\n",
    "# Fully Connected 2\n",
    "fc2_n_neurons = n_classes"
   ]
  },
  {
   "cell_type": "code",
   "execution_count": null,
   "metadata": {
    "collapsed": false
   },
   "outputs": [],
   "source": [
    "### Placeholder variables\n",
    "nn_input = tf.placeholder(tf.float32, shape=[None, img_size_w, img_size_h, img_size_d], name='x')\n",
    "y_true = tf.placeholder(tf.float32, shape=[None, n_classes], name='y')\n",
    "\n",
    "y_true_class = tf.argmax(y_true, dimension=1)\n",
    "\n",
    "print(nn_input)\n",
    "print(y_true)"
   ]
  },
  {
   "cell_type": "code",
   "execution_count": null,
   "metadata": {
    "collapsed": false
   },
   "outputs": [],
   "source": [
    "### Network architecture\n",
    "# First Layer: Conv + ReLU + Max pool\n",
    "layer1 = create_conv_layer(input_layer=nn_input,\n",
    "                           filter_size=layer1_filter_size,\n",
    "                           n_filters=layer1_n_filters,\n",
    "                           use_pooling=True,\n",
    "                           use_relu=True)\n",
    "print(layer1)\n"
   ]
  },
  {
   "cell_type": "code",
   "execution_count": null,
   "metadata": {
    "collapsed": false
   },
   "outputs": [],
   "source": [
    "# Second Layer: Conv + ReLU + Max pool\n",
    "layer2 = create_conv_layer(input_layer=layer1,\n",
    "                           filter_size=layer2_filter_size,\n",
    "                           n_filters=layer2_n_filters,\n",
    "                           use_pooling=True,\n",
    "                           use_relu=True)\n",
    "print(layer2)"
   ]
  },
  {
   "cell_type": "code",
   "execution_count": null,
   "metadata": {
    "collapsed": false
   },
   "outputs": [],
   "source": [
    "# Third Layer: Fully Connected + ReLU\n",
    "flattened_layer2 = flatten_layer(layer2)\n",
    "print(flattened_layer2)\n",
    "layer3 = create_fc_layer(input_layer=flattened_layer2,\n",
    "                         n_outputs=fc1_n_neurons,\n",
    "                         use_relu=True)\n",
    "print(layer3)"
   ]
  },
  {
   "cell_type": "code",
   "execution_count": null,
   "metadata": {
    "collapsed": false
   },
   "outputs": [],
   "source": [
    "# Fourth Layer: Fully Connected + ReLU\n",
    "layer4 = create_fc_layer(input_layer=layer3,\n",
    "                         n_outputs=fc2_n_neurons,\n",
    "                         use_relu=False)\n",
    "print(layer4)"
   ]
  },
  {
   "cell_type": "code",
   "execution_count": null,
   "metadata": {
    "collapsed": false
   },
   "outputs": [],
   "source": [
    "# Softmax\n",
    "y_predicted = tf.nn.softmax(layer4)\n",
    "y_predicted_class = tf.argmax(y_predicted, dimension=1)\n",
    "print(y_predicted)"
   ]
  },
  {
   "cell_type": "code",
   "execution_count": null,
   "metadata": {
    "collapsed": false
   },
   "outputs": [],
   "source": [
    "### Optimization\n",
    "cross_entropy = tf.nn.softmax_cross_entropy_with_logits(logits=layer4,\n",
    "                                                        labels=y_true)\n",
    "cost = tf.reduce_mean(cross_entropy)\n",
    "\n",
    "learning_rate_ = 0.1\n",
    "optimizer = tf.train.AdamOptimizer(learning_rate_).minimize(cost)"
   ]
  },
  {
   "cell_type": "markdown",
   "metadata": {},
   "source": [
    "### Question 3\n",
    "\n",
    "_What does your final architecture look like? (Type of model, layers, sizes, connectivity, etc.)  For reference on how to build a deep neural network using TensorFlow, see [Deep Neural Network in TensorFlow\n",
    "](https://classroom.udacity.com/nanodegrees/nd013/parts/fbf77062-5703-404e-b60c-95b78b2f3f9e/modules/6df7ae49-c61c-4bb2-a23e-6527e69209ec/lessons/b516a270-8600-4f93-a0a3-20dfeabe5da6/concepts/83a3a2a2-a9bd-4b7b-95b0-eb924ab14432) from the classroom._\n"
   ]
  },
  {
   "cell_type": "markdown",
   "metadata": {},
   "source": [
    "**Answer:**"
   ]
  },
  {
   "cell_type": "markdown",
   "metadata": {},
   "source": [
    "---\n",
    "## 2.2 Network training"
   ]
  },
  {
   "cell_type": "code",
   "execution_count": null,
   "metadata": {
    "collapsed": true
   },
   "outputs": [],
   "source": [
    "### Train your model here.\n",
    "### Feel free to use as many code cells as needed."
   ]
  },
  {
   "cell_type": "code",
   "execution_count": null,
   "metadata": {
    "collapsed": true
   },
   "outputs": [],
   "source": [
    "# Training paramters\n",
    "train_batch_size = 128\n",
    "learning_rate = 0.1\n",
    "n_epochs = 5\n",
    "n_batches = 10"
   ]
  },
  {
   "cell_type": "code",
   "execution_count": null,
   "metadata": {
    "collapsed": true
   },
   "outputs": [],
   "source": [
    "# Initialize all variables\n",
    "init = tf.initialize_all_variables()"
   ]
  },
  {
   "cell_type": "code",
   "execution_count": null,
   "metadata": {
    "collapsed": false
   },
   "outputs": [],
   "source": [
    "# Compute the graph\n",
    "with tf.Session() as sess:\n",
    "    sess.run(init)\n",
    "    \n",
    "    # Loop through epochs\n",
    "    for i_epoch in range(n_epochs):\n",
    "        # Update progress bar\n",
    "        batches_pbar = tqdm(range(n_batches), desc='Epoch {:>2}/{}'.format(i_epoch + 1, \n",
    "                                                                           n_epochs), unit='batches')        \n",
    "        # Loop through batches\n",
    "        for i_batch in batches_pbar:\n",
    "            # Get batch\n",
    "            batch_x = X_train_final[0:train_batch_size, :, :, :]\n",
    "            batch_y = y_train_final[0:train_batch_size, :]            \n",
    "            \n",
    "            # Feed it to the network and compute\n",
    "            sess.run(optimizer, feed_dict={nn_input: batch_x, y_true: batch_y})                 "
   ]
  },
  {
   "cell_type": "markdown",
   "metadata": {},
   "source": [
    "### Question 4\n",
    "\n",
    "_How did you train your model? (Type of optimizer, batch size, epochs, hyperparameters, etc.)_\n"
   ]
  },
  {
   "cell_type": "markdown",
   "metadata": {},
   "source": [
    "**Answer:**"
   ]
  },
  {
   "cell_type": "markdown",
   "metadata": {},
   "source": [
    "### Question 5\n",
    "\n",
    "\n",
    "_What approach did you take in coming up with a solution to this problem?_"
   ]
  },
  {
   "cell_type": "markdown",
   "metadata": {},
   "source": [
    "**Answer:**"
   ]
  },
  {
   "cell_type": "markdown",
   "metadata": {},
   "source": [
    "---\n",
    "\n",
    "## Step 3: Test a Model on New Images\n",
    "\n",
    "Take several pictures of traffic signs that you find on the web or around you (at least five), and run them through your classifier on your computer to produce example results. The classifier might not recognize some local signs but it could prove interesting nonetheless.\n",
    "\n",
    "You may find `signnames.csv` useful as it contains mappings from the class id (integer) to the actual sign name."
   ]
  },
  {
   "cell_type": "markdown",
   "metadata": {},
   "source": [
    "### Implementation\n",
    "\n",
    "Use the code cell (or multiple code cells, if necessary) to implement the first step of your project. Once you have completed your implementation and are satisfied with the results, be sure to thoroughly answer the questions that follow."
   ]
  },
  {
   "cell_type": "code",
   "execution_count": null,
   "metadata": {
    "collapsed": true
   },
   "outputs": [],
   "source": [
    "### Load the images and plot them here.\n",
    "### Feel free to use as many code cells as needed."
   ]
  },
  {
   "cell_type": "markdown",
   "metadata": {},
   "source": [
    "### Question 6\n",
    "\n",
    "_Choose five candidate images of traffic signs and provide them in the report. Are there any particular qualities of the image(s) that might make classification difficult? It would be helpful to plot the images in the notebook._\n",
    "\n"
   ]
  },
  {
   "cell_type": "markdown",
   "metadata": {},
   "source": [
    "**Answer:**"
   ]
  },
  {
   "cell_type": "code",
   "execution_count": null,
   "metadata": {
    "collapsed": true
   },
   "outputs": [],
   "source": [
    "### Run the predictions here.\n",
    "### Feel free to use as many code cells as needed."
   ]
  },
  {
   "cell_type": "markdown",
   "metadata": {},
   "source": [
    "### Question 7\n",
    "\n",
    "_Is your model able to perform equally well on captured pictures or a live camera stream when compared to testing on the dataset?_\n"
   ]
  },
  {
   "cell_type": "markdown",
   "metadata": {},
   "source": [
    "**Answer:**"
   ]
  },
  {
   "cell_type": "code",
   "execution_count": null,
   "metadata": {
    "collapsed": true
   },
   "outputs": [],
   "source": [
    "### Visualize the softmax probabilities here.\n",
    "### Feel free to use as many code cells as needed."
   ]
  },
  {
   "cell_type": "markdown",
   "metadata": {},
   "source": [
    "### Question 8\n",
    "\n",
    "*Use the model's softmax probabilities to visualize the **certainty** of its predictions, [`tf.nn.top_k`](https://www.tensorflow.org/versions/r0.11/api_docs/python/nn.html#top_k) could prove helpful here. Which predictions is the model certain of? Uncertain? If the model was incorrect in its initial prediction, does the correct prediction appear in the top k? (k should be 5 at most)*\n"
   ]
  },
  {
   "cell_type": "markdown",
   "metadata": {},
   "source": [
    "**Answer:**"
   ]
  },
  {
   "cell_type": "markdown",
   "metadata": {},
   "source": [
    "### Question 9\n",
    "_If necessary, provide documentation for how an interface was built for your model to load and classify newly-acquired images._\n"
   ]
  },
  {
   "cell_type": "markdown",
   "metadata": {},
   "source": [
    "**Answer:**"
   ]
  },
  {
   "cell_type": "markdown",
   "metadata": {},
   "source": [
    "> **Note**: Once you have completed all of the code implementations and successfully answered each question above, you may finalize your work by exporting the iPython Notebook as an HTML document. You can do this by using the menu above and navigating to  \\n\",\n",
    "    \"**File -> Download as -> HTML (.html)**. Include the finished document along with this notebook as your submission."
   ]
  },
  {
   "cell_type": "code",
   "execution_count": null,
   "metadata": {
    "collapsed": true
   },
   "outputs": [],
   "source": []
  }
 ],
 "metadata": {
  "anaconda-cloud": {},
  "kernelspec": {
   "display_name": "Python [conda env:carnd]",
   "language": "python",
   "name": "conda-env-carnd-py"
  },
  "language_info": {
   "codemirror_mode": {
    "name": "ipython",
    "version": 3
   },
   "file_extension": ".py",
   "mimetype": "text/x-python",
   "name": "python",
   "nbconvert_exporter": "python",
   "pygments_lexer": "ipython3",
   "version": "3.5.2"
  }
 },
 "nbformat": 4,
 "nbformat_minor": 1
}
